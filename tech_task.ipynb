{
  "cells": [
    {
      "cell_type": "code",
      "source": [
        "import pandas as pd\n",
        "import psycopg2\n",
        "import config as c\n",
        "import pandas.io.sql as sqlio\n",
        "from ggplot import *\n",
        "from datetime import datetime"
      ],
      "outputs": [],
      "execution_count": 7,
      "metadata": {
        "collapsed": false,
        "outputHidden": false,
        "inputHidden": false
      }
    },
    {
      "cell_type": "code",
      "source": [
        "conn = psycopg2.connect(host=c.host,\n",
        "                        database=c.data_base,\n",
        "                        user=c.user_name,\n",
        "                        password=c.password\n",
        "                        )"
      ],
      "outputs": [],
      "execution_count": 8,
      "metadata": {
        "collapsed": false,
        "outputHidden": false,
        "inputHidden": false
      }
    },
    {
      "cell_type": "markdown",
      "source": [
        "## Quation 1\n",
        "We think there is a seasonality factor to our NPS data for tradesman. Splice the data and show how seasonality affects our service, giving an example or two as to why NPS may go up/down throughout the year."
      ],
      "metadata": {}
    },
    {
      "cell_type": "code",
      "source": [
        "query_quarterly = \"\"\"\n",
        "WITH final_table AS (\n",
        "\n",
        "\t\tWITH mid_table AS \n",
        "\t\t\t( \n",
        "\t\t\tSELECT cohort_year, cohort_quarter, AVG(net_promoter_score) as quarterly_average_score \n",
        "\t\t\tFROM \n",
        "\t\t\t\t(SELECT \n",
        "\t\t\t\tDATE_PART('quarter',end_of_period) as cohort_quarter, \n",
        "\t\t\t\tDATE_PART('year',end_of_period) AS cohort_year,*\n",
        "\t\t\t\tFROM customer_happiness_cohorts\n",
        "\t\t\t\tWHERE type = 'tradesman') t\n",
        "\t\t\tGROUP BY cohort_year,cohort_quarter\n",
        "\t\t\tORDER BY quarterly_average_score DESC\n",
        "\t\t\t) \n",
        "\t\t\tSELECT \n",
        "\t\t\t\tcohort_year,cohort_quarter, \n",
        "\t\t\t\tquarterly_average_score, \n",
        "\t\t\t\tAVG(quarterly_average_score) OVER (order by cohort_year, cohort_quarter rows between 1 preceding and 2 following) as moving_average \n",
        "\t\t\tFROM mid_table\n",
        "\t\t\torder by cohort_year, cohort_quarter asc\n",
        "\t\t\t)\n",
        "SELECT \n",
        "\tcohort_year,cohort_quarter, \n",
        "\tquarterly_average_score/moving_average AS seasonal_index,\n",
        "\tquarterly_average_score,\n",
        "\tmoving_average\n",
        "FROM final_table\n",
        "ORDER BY seasonal_index DESC\n",
        ";\n",
        "\"\"\""
      ],
      "outputs": [],
      "execution_count": 9,
      "metadata": {
        "collapsed": false,
        "outputHidden": false,
        "inputHidden": false
      }
    },
    {
      "cell_type": "code",
      "source": [
        "data = sqlio.read_sql_query(query_quarterly, conn)"
      ],
      "outputs": [],
      "execution_count": 10,
      "metadata": {
        "collapsed": false,
        "outputHidden": false,
        "inputHidden": false
      }
    },
    {
      "cell_type": "code",
      "source": [
        "data[\"period\"] = data[\"cohort_year\"].map(int).map(str) + 'Q' + data[\"cohort_quarter\"].map(int).map(str)"
      ],
      "outputs": [],
      "execution_count": 11,
      "metadata": {
        "collapsed": false,
        "outputHidden": false,
        "inputHidden": false
      }
    },
    {
      "cell_type": "code",
      "source": [
        "data.head()"
      ],
      "outputs": [
        {
          "output_type": "execute_result",
          "execution_count": 12,
          "data": {
            "text/plain": [
              "   cohort_year  cohort_quarter  seasonal_index  quarterly_average_score  \\\n",
              "0       2015.0             4.0        1.299315                40.153846   \n",
              "1       2017.0             4.0        1.265116                20.923077   \n",
              "2       2016.0             3.0        1.177019                29.153846   \n",
              "3       2016.0             4.0        1.172809                27.538462   \n",
              "4       2017.0             3.0        1.169364                20.846154   \n",
              "\n",
              "   moving_average  period  \n",
              "0       30.903846  2015Q4  \n",
              "1       16.538462  2017Q4  \n",
              "2       24.769231  2016Q3  \n",
              "3       23.480769  2016Q4  \n",
              "4       17.826923  2017Q3  "
            ],
            "text/html": [
              "<div>\n",
              "<style scoped>\n",
              "    .dataframe tbody tr th:only-of-type {\n",
              "        vertical-align: middle;\n",
              "    }\n",
              "\n",
              "    .dataframe tbody tr th {\n",
              "        vertical-align: top;\n",
              "    }\n",
              "\n",
              "    .dataframe thead th {\n",
              "        text-align: right;\n",
              "    }\n",
              "</style>\n",
              "<table border=\"1\" class=\"dataframe\">\n",
              "  <thead>\n",
              "    <tr style=\"text-align: right;\">\n",
              "      <th></th>\n",
              "      <th>cohort_year</th>\n",
              "      <th>cohort_quarter</th>\n",
              "      <th>seasonal_index</th>\n",
              "      <th>quarterly_average_score</th>\n",
              "      <th>moving_average</th>\n",
              "      <th>period</th>\n",
              "    </tr>\n",
              "  </thead>\n",
              "  <tbody>\n",
              "    <tr>\n",
              "      <th>0</th>\n",
              "      <td>2015.0</td>\n",
              "      <td>4.0</td>\n",
              "      <td>1.299315</td>\n",
              "      <td>40.153846</td>\n",
              "      <td>30.903846</td>\n",
              "      <td>2015Q4</td>\n",
              "    </tr>\n",
              "    <tr>\n",
              "      <th>1</th>\n",
              "      <td>2017.0</td>\n",
              "      <td>4.0</td>\n",
              "      <td>1.265116</td>\n",
              "      <td>20.923077</td>\n",
              "      <td>16.538462</td>\n",
              "      <td>2017Q4</td>\n",
              "    </tr>\n",
              "    <tr>\n",
              "      <th>2</th>\n",
              "      <td>2016.0</td>\n",
              "      <td>3.0</td>\n",
              "      <td>1.177019</td>\n",
              "      <td>29.153846</td>\n",
              "      <td>24.769231</td>\n",
              "      <td>2016Q3</td>\n",
              "    </tr>\n",
              "    <tr>\n",
              "      <th>3</th>\n",
              "      <td>2016.0</td>\n",
              "      <td>4.0</td>\n",
              "      <td>1.172809</td>\n",
              "      <td>27.538462</td>\n",
              "      <td>23.480769</td>\n",
              "      <td>2016Q4</td>\n",
              "    </tr>\n",
              "    <tr>\n",
              "      <th>4</th>\n",
              "      <td>2017.0</td>\n",
              "      <td>3.0</td>\n",
              "      <td>1.169364</td>\n",
              "      <td>20.846154</td>\n",
              "      <td>17.826923</td>\n",
              "      <td>2017Q3</td>\n",
              "    </tr>\n",
              "  </tbody>\n",
              "</table>\n",
              "</div>"
            ]
          },
          "metadata": {}
        }
      ],
      "execution_count": 12,
      "metadata": {
        "collapsed": false,
        "outputHidden": false,
        "inputHidden": false
      }
    },
    {
      "cell_type": "code",
      "source": [
        "ggplot(aes(x='period'), data = data)+\\\n",
        "        geom_line(aes(y='quarterly_average_score', color='purple'))+\\\n",
        "        geom_line(aes(y='moving_average', color='blue'))+\\\n",
        "        scale_x_continuous(breaks = (3,7,11,15))+\\\n",
        "        ylab('Average Score')"
      ],
      "outputs": [
        {
          "output_type": "display_data",
          "data": {
            "image/png": "[encoded data removed]",
            "text/plain": [
              "<Figure size 792x576 with 1 Axes>"
            ]
          },
          "metadata": {}
        },
        {
          "output_type": "execute_result",
          "execution_count": 13,
          "data": {
            "text/plain": [
              "<ggplot: (288654642)>"
            ]
          },
          "metadata": {}
        }
      ],
      "execution_count": 13,
      "metadata": {
        "collapsed": false,
        "outputHidden": false,
        "inputHidden": false
      }
    },
    {
      "cell_type": "code",
      "source": [
        "ggplot(aes(x='period', y='seasonal_index'), data = data)+\\\n",
        "        geom_line(color='green')+\\\n",
        "        scale_x_continuous(breaks = (3,7,11,15))"
      ],
      "outputs": [
        {
          "output_type": "display_data",
          "data": {
            "image/png": "[encoded data removed]",
            "text/plain": [
              "<Figure size 792x576 with 1 Axes>"
            ]
          },
          "metadata": {}
        },
        {
          "output_type": "execute_result",
          "execution_count": 14,
          "data": {
            "text/plain": [
              "<ggplot: (285785001)>"
            ]
          },
          "metadata": {}
        }
      ],
      "execution_count": 14,
      "metadata": {
        "collapsed": false,
        "outputHidden": false,
        "inputHidden": false
      }
    },
    {
      "cell_type": "markdown",
      "source": [
        "#### Performing same analysis but on Monthly daya"
      ],
      "metadata": {}
    },
    {
      "cell_type": "code",
      "source": [
        "query_monthly = \"\"\"\n",
        "WITH final_table AS (\n",
        "\n",
        "\t\tWITH mid_table AS \n",
        "\t\t\t( \n",
        "\t\t\tSELECT cohort_year, cohort_month, AVG(net_promoter_score) as monthly_average_score \n",
        "\t\t\tFROM \n",
        "\t\t\t\t(SELECT \n",
        "\t\t\t\tDATE_PART('month',end_of_period) as cohort_month, \n",
        "\t\t\t\tDATE_PART('year',end_of_period) AS cohort_year,*\n",
        "\t\t\t\tFROM customer_happiness_cohorts\n",
        "\t\t\t\tWHERE type = 'tradesman') t\n",
        "\t\t\tGROUP BY cohort_year,cohort_month\n",
        "\t\t\tORDER BY monthly_average_score DESC\n",
        "\t\t\t) \n",
        "\t\t\tSELECT \n",
        "\t\t\t\tcohort_year,cohort_month, \n",
        "\t\t\t\tmonthly_average_score, \n",
        "\t\t\t\tAVG(monthly_average_score) OVER (order by cohort_year, cohort_month rows between 1 preceding and 2 following) as moving_average \n",
        "\t\t\tFROM mid_table\n",
        "\t\t\torder by cohort_year, cohort_month asc\n",
        "\t\t\t)\n",
        "SELECT \n",
        "\tcohort_year,cohort_month, \n",
        "\tmonthly_average_score/moving_average AS seasonal_index,\n",
        "\tmonthly_average_score,\n",
        "\tmoving_average\n",
        "FROM final_table\n",
        "ORDER BY seasonal_index DESC\n",
        ";\n",
        "\"\"\""
      ],
      "outputs": [],
      "execution_count": 15,
      "metadata": {
        "collapsed": false,
        "outputHidden": false,
        "inputHidden": false
      }
    },
    {
      "cell_type": "code",
      "source": [
        "data_m = sqlio.read_sql_query(query_monthly, conn)"
      ],
      "outputs": [],
      "execution_count": 16,
      "metadata": {
        "collapsed": false,
        "outputHidden": false,
        "inputHidden": false
      }
    },
    {
      "cell_type": "code",
      "source": [
        "data_m.head()"
      ],
      "outputs": [
        {
          "output_type": "execute_result",
          "execution_count": 17,
          "data": {
            "text/plain": [
              "   cohort_year  cohort_month  seasonal_index  monthly_average_score  \\\n",
              "0       2015.0          12.0        1.294396                   41.0   \n",
              "1       2016.0          11.0        1.236695                   30.5   \n",
              "2       2017.0          12.0        1.236133                   19.5   \n",
              "3       2018.0           1.0        1.189409                   14.6   \n",
              "4       2016.0           4.0        1.160372                   26.5   \n",
              "\n",
              "   moving_average  \n",
              "0         31.6750  \n",
              "1         24.6625  \n",
              "2         15.7750  \n",
              "3         12.2750  \n",
              "4         22.8375  "
            ],
            "text/html": [
              "<div>\n",
              "<style scoped>\n",
              "    .dataframe tbody tr th:only-of-type {\n",
              "        vertical-align: middle;\n",
              "    }\n",
              "\n",
              "    .dataframe tbody tr th {\n",
              "        vertical-align: top;\n",
              "    }\n",
              "\n",
              "    .dataframe thead th {\n",
              "        text-align: right;\n",
              "    }\n",
              "</style>\n",
              "<table border=\"1\" class=\"dataframe\">\n",
              "  <thead>\n",
              "    <tr style=\"text-align: right;\">\n",
              "      <th></th>\n",
              "      <th>cohort_year</th>\n",
              "      <th>cohort_month</th>\n",
              "      <th>seasonal_index</th>\n",
              "      <th>monthly_average_score</th>\n",
              "      <th>moving_average</th>\n",
              "    </tr>\n",
              "  </thead>\n",
              "  <tbody>\n",
              "    <tr>\n",
              "      <th>0</th>\n",
              "      <td>2015.0</td>\n",
              "      <td>12.0</td>\n",
              "      <td>1.294396</td>\n",
              "      <td>41.0</td>\n",
              "      <td>31.6750</td>\n",
              "    </tr>\n",
              "    <tr>\n",
              "      <th>1</th>\n",
              "      <td>2016.0</td>\n",
              "      <td>11.0</td>\n",
              "      <td>1.236695</td>\n",
              "      <td>30.5</td>\n",
              "      <td>24.6625</td>\n",
              "    </tr>\n",
              "    <tr>\n",
              "      <th>2</th>\n",
              "      <td>2017.0</td>\n",
              "      <td>12.0</td>\n",
              "      <td>1.236133</td>\n",
              "      <td>19.5</td>\n",
              "      <td>15.7750</td>\n",
              "    </tr>\n",
              "    <tr>\n",
              "      <th>3</th>\n",
              "      <td>2018.0</td>\n",
              "      <td>1.0</td>\n",
              "      <td>1.189409</td>\n",
              "      <td>14.6</td>\n",
              "      <td>12.2750</td>\n",
              "    </tr>\n",
              "    <tr>\n",
              "      <th>4</th>\n",
              "      <td>2016.0</td>\n",
              "      <td>4.0</td>\n",
              "      <td>1.160372</td>\n",
              "      <td>26.5</td>\n",
              "      <td>22.8375</td>\n",
              "    </tr>\n",
              "  </tbody>\n",
              "</table>\n",
              "</div>"
            ]
          },
          "metadata": {}
        }
      ],
      "execution_count": 17,
      "metadata": {
        "collapsed": false,
        "outputHidden": false,
        "inputHidden": false
      }
    },
    {
      "cell_type": "code",
      "source": [
        "data_m[\"period\"] = data_m[\"cohort_year\"].map(int).map(str) + data_m[\"cohort_month\"].map(int).map(str)"
      ],
      "outputs": [],
      "execution_count": 18,
      "metadata": {
        "collapsed": false,
        "outputHidden": false,
        "inputHidden": false
      }
    },
    {
      "cell_type": "code",
      "source": [
        "data_m[\"period\"] = pd.to_datetime(data_m[\"period\"],format='%Y%m')"
      ],
      "outputs": [],
      "execution_count": 19,
      "metadata": {
        "collapsed": false,
        "outputHidden": false,
        "inputHidden": false
      }
    },
    {
      "cell_type": "code",
      "source": [
        "data_m[\"period\"] = data_m[\"period\"].dt.strftime('%y-%m')"
      ],
      "outputs": [],
      "execution_count": 20,
      "metadata": {
        "collapsed": false,
        "outputHidden": false,
        "inputHidden": false
      }
    },
    {
      "cell_type": "code",
      "source": [
        "ggplot(aes(x='period'), data = data_m)+\\\n",
        "        geom_line(aes(y='monthly_average_score', color='purple'))+\\\n",
        "        geom_line(aes(y='moving_average', color='blue'))+\\\n",
        "        scale_x_continuous(breaks = range(0,50,5))+\\\n",
        "        ylab('Average Score')"
      ],
      "outputs": [
        {
          "output_type": "display_data",
          "data": {
            "image/png": "[encoded data removed]",
            "text/plain": [
              "<Figure size 792x576 with 1 Axes>"
            ]
          },
          "metadata": {}
        },
        {
          "output_type": "execute_result",
          "execution_count": 21,
          "data": {
            "text/plain": [
              "<ggplot: (289768382)>"
            ]
          },
          "metadata": {}
        }
      ],
      "execution_count": 21,
      "metadata": {
        "collapsed": false,
        "outputHidden": false,
        "inputHidden": false
      }
    },
    {
      "cell_type": "code",
      "source": [
        "ggplot(aes(x='period', y='seasonal_index'), data = data_m)+\\\n",
        "        geom_line(color='green')+\\\n",
        "        scale_x_continuous(breaks = range(0,50,5))"
      ],
      "outputs": [
        {
          "output_type": "display_data",
          "data": {
            "image/png": "[encoded data removed]",
            "text/plain": [
              "<Figure size 792x576 with 1 Axes>"
            ]
          },
          "metadata": {}
        },
        {
          "output_type": "execute_result",
          "execution_count": 22,
          "data": {
            "text/plain": [
              "<ggplot: (288834957)>"
            ]
          },
          "metadata": {}
        }
      ],
      "execution_count": 22,
      "metadata": {
        "collapsed": false,
        "outputHidden": false,
        "inputHidden": false
      }
    },
    {
      "cell_type": "markdown",
      "source": [
        "### Answer to Question 1\n",
        "\n",
        "The final_table shows the seasonality index of NPS for each quarter. An index abobe 1 means that the quarter has a performance higher than average trend, while an index below 1 shows the opposite, which means the quarter performed below average trend.\n",
        "\n",
        "As we can see from the final_table the best performing quarters in terms of NPS are Q3 and Q4, consistently over the years. Q2 is consistently scoring an NPS average trend in the middle over the years, while Q1 has been the low performing quarter across all years.\n",
        "\nWe can thereore conclude that there is a clear seasonality effect in the data, with NPS going down in the first Q1 and then progressivly going up until reaching its max on Q3 and Q4."
      ],
      "metadata": {}
    },
    {
      "cell_type": "markdown",
      "source": [
        "## Question 2\n",
        "Marketing comes to the tech team and says that they want to run a campaign to to\n",
        "get more tradespeople on the site. Given the data from NPS, what recommendation\n",
        "would you make as to which types and locations they should focus on and why?"
      ],
      "metadata": {}
    },
    {
      "cell_type": "code",
      "source": [
        "query_2 = \"\"\"\n",
        "WITH ranked_users_table AS (\n",
        "SELECT id, user_id, \n",
        "\tCASE\n",
        "\t\tWHEN rating < 7 THEN 'Detractor'\n",
        "\t\tWHEN rating > 8 THEN 'Promoter'\n",
        "\t\tELSE 'Passive'\n",
        "\tEND as user_rank\n",
        "FROM customer_happiness_questions\n",
        " ) SELECT \n",
        " \tuser_rank, \n",
        " \tCOUNT(DISTINCT rut.user_id) AS count_users,\n",
        " \ttl.county\n",
        " \tFROM ranked_users_table rut\n",
        " \tJOIN tradesman_locations tl ON tl.user_id = rut.user_id\n",
        " \tJOIN (\n",
        " \t\tSELECT *, \n",
        "\t\tRANK() OVER (order by pref_rank)\n",
        "\t\tFROM tradesmen_trades \n",
        " \t\t)tt ON tl.user_id = tt.user_id -- using only top ranked trade for simplicity\n",
        " \tWHERE tt.rank = 1 \n",
        " \tGROUP BY rut.user_rank, tl.county\n",
        " \tORDER BY count_users DESC\n",
        " ;\n",
        "\"\"\""
      ],
      "outputs": [],
      "execution_count": 127,
      "metadata": {
        "collapsed": false,
        "outputHidden": false,
        "inputHidden": false
      }
    },
    {
      "cell_type": "code",
      "source": [
        "data_2 = sqlio.read_sql_query(query_2, conn)"
      ],
      "outputs": [],
      "execution_count": 128,
      "metadata": {
        "collapsed": false,
        "outputHidden": false,
        "inputHidden": false
      }
    },
    {
      "cell_type": "code",
      "source": [
        "data_2.head()"
      ],
      "outputs": [
        {
          "output_type": "execute_result",
          "execution_count": 129,
          "data": {
            "text/plain": [
              "   user_rank  count_users      county\n",
              "0   Promoter         1475      London\n",
              "1   Promoter          924       Essex\n",
              "2  Detractor          908      London\n",
              "3   Promoter          863        Kent\n",
              "4   Promoter          844  Lancashire"
            ],
            "text/html": [
              "<div>\n",
              "<style scoped>\n",
              "    .dataframe tbody tr th:only-of-type {\n",
              "        vertical-align: middle;\n",
              "    }\n",
              "\n",
              "    .dataframe tbody tr th {\n",
              "        vertical-align: top;\n",
              "    }\n",
              "\n",
              "    .dataframe thead th {\n",
              "        text-align: right;\n",
              "    }\n",
              "</style>\n",
              "<table border=\"1\" class=\"dataframe\">\n",
              "  <thead>\n",
              "    <tr style=\"text-align: right;\">\n",
              "      <th></th>\n",
              "      <th>user_rank</th>\n",
              "      <th>count_users</th>\n",
              "      <th>county</th>\n",
              "    </tr>\n",
              "  </thead>\n",
              "  <tbody>\n",
              "    <tr>\n",
              "      <th>0</th>\n",
              "      <td>Promoter</td>\n",
              "      <td>1475</td>\n",
              "      <td>London</td>\n",
              "    </tr>\n",
              "    <tr>\n",
              "      <th>1</th>\n",
              "      <td>Promoter</td>\n",
              "      <td>924</td>\n",
              "      <td>Essex</td>\n",
              "    </tr>\n",
              "    <tr>\n",
              "      <th>2</th>\n",
              "      <td>Detractor</td>\n",
              "      <td>908</td>\n",
              "      <td>London</td>\n",
              "    </tr>\n",
              "    <tr>\n",
              "      <th>3</th>\n",
              "      <td>Promoter</td>\n",
              "      <td>863</td>\n",
              "      <td>Kent</td>\n",
              "    </tr>\n",
              "    <tr>\n",
              "      <th>4</th>\n",
              "      <td>Promoter</td>\n",
              "      <td>844</td>\n",
              "      <td>Lancashire</td>\n",
              "    </tr>\n",
              "  </tbody>\n",
              "</table>\n",
              "</div>"
            ]
          },
          "metadata": {}
        }
      ],
      "execution_count": 129,
      "metadata": {
        "collapsed": false,
        "outputHidden": false,
        "inputHidden": false
      }
    },
    {
      "cell_type": "code",
      "source": [
        "### Let's have a look at the distribution of tradesmen in each area and group small areas into a \"Generic_county\" group"
      ],
      "outputs": [],
      "execution_count": 130,
      "metadata": {
        "collapsed": false,
        "outputHidden": false,
        "inputHidden": false
      }
    },
    {
      "cell_type": "code",
      "source": [
        "county_size = data_2.groupby(['county']).agg({'count_users': 'sum'}).reset_index()"
      ],
      "outputs": [],
      "execution_count": 131,
      "metadata": {
        "collapsed": false,
        "outputHidden": false,
        "inputHidden": false
      }
    },
    {
      "cell_type": "code",
      "source": [
        "county_size = county_size.sort_values(by = ['count_users'], ascending=False)"
      ],
      "outputs": [],
      "execution_count": 132,
      "metadata": {
        "collapsed": false,
        "outputHidden": false,
        "inputHidden": false
      }
    },
    {
      "cell_type": "code",
      "source": [
        "ggplot(aes(x = \"county\", y = \"count_users\"),data = county_size)+\\\n",
        "        geom_point()+\\\n",
        "        scale_x_continuous(breaks = (0,12,24,36,48,60))"
      ],
      "outputs": [
        {
          "output_type": "display_data",
          "data": {
            "image/png": "[encoded data removed]",
            "text/plain": [
              "<Figure size 792x576 with 1 Axes>"
            ]
          },
          "metadata": {}
        },
        {
          "output_type": "execute_result",
          "execution_count": 133,
          "data": {
            "text/plain": [
              "<ggplot: (7551647587)>"
            ]
          },
          "metadata": {}
        }
      ],
      "execution_count": 133,
      "metadata": {
        "collapsed": false,
        "outputHidden": false,
        "inputHidden": false
      }
    },
    {
      "cell_type": "code",
      "source": [
        "## Let's use 200 users are the breakpoint\n",
        "small_counties = county_size[county_size[\"count_users\"] <= 200][\"county\"].unique().tolist()"
      ],
      "outputs": [],
      "execution_count": 135,
      "metadata": {
        "collapsed": false,
        "outputHidden": false,
        "inputHidden": false
      }
    },
    {
      "cell_type": "code",
      "source": [
        "data_2.loc[data_2.county.isin(small_counties), 'county'] = 'Generic_county'"
      ],
      "outputs": [],
      "execution_count": 136,
      "metadata": {
        "collapsed": false,
        "outputHidden": false,
        "inputHidden": false
      }
    },
    {
      "cell_type": "code",
      "source": [
        "data_2[\"county\"].unique()"
      ],
      "outputs": [
        {
          "output_type": "execute_result",
          "execution_count": 137,
          "data": {
            "text/plain": [
              "array(['London', 'Essex', 'Kent', 'Lancashire', 'Surrey', 'Middlesex',\n",
              "       'West Yorkshire', 'West Midlands', 'Hertfordshire', 'Hampshire',\n",
              "       'Devon', 'Cheshire', 'Lanarkshire', 'Avon', 'Merseyside',\n",
              "       'Nottinghamshire', 'South Yorkshire', 'Staffordshire',\n",
              "       'East Sussex', 'Tyne and Wear', 'Berkshire', 'West Sussex',\n",
              "       'Cambridgeshire', 'Cornwall', 'Mid Glamorgan', 'Gloucestershire',\n",
              "       'Bedfordshire', 'Derbyshire', 'Wiltshire', 'Northamptonshire',\n",
              "       'Norfolk', 'Dorset', 'Gwent', 'Buckinghamshire', 'Somerset',\n",
              "       'Suffolk', 'Lincolnshire', 'Leicestershire', 'Oxfordshire',\n",
              "       'Midlothian', 'County Durham', 'Worcestershire', 'South Glamorgan',\n",
              "       'Fife', 'West Glamorgan', 'Dyfed', 'North Yorkshire',\n",
              "       'North Humberside', 'Clwyd', 'Shropshire', 'Generic_county'],\n",
              "      dtype=object)"
            ]
          },
          "metadata": {}
        }
      ],
      "execution_count": 137,
      "metadata": {
        "collapsed": false,
        "outputHidden": false,
        "inputHidden": false
      }
    },
    {
      "cell_type": "code",
      "source": [
        "ggplot(aes(x = \"county\", y = \"count_users\", color = 'user_rank'),data = data_2[data_2[\"county\"] != \"Generic_county\"])+\\\n",
        "        geom_point()+\\\n",
        "        scale_x_continuous(breaks = (0,10,20,30,40,50))"
      ],
      "outputs": [
        {
          "output_type": "display_data",
          "data": {
            "image/png": "[encoded data removed]",
            "text/plain": [
              "<Figure size 792x576 with 1 Axes>"
            ]
          },
          "metadata": {}
        },
        {
          "output_type": "execute_result",
          "execution_count": 139,
          "data": {
            "text/plain": [
              "<ggplot: (-9223372029301802159)>"
            ]
          },
          "metadata": {}
        }
      ],
      "execution_count": 139,
      "metadata": {
        "collapsed": false,
        "outputHidden": false,
        "inputHidden": false
      }
    },
    {
      "cell_type": "code",
      "source": [
        "# Let's have a look at the counties with higher percentage of detractors"
      ],
      "outputs": [],
      "execution_count": 140,
      "metadata": {
        "collapsed": false,
        "outputHidden": false,
        "inputHidden": false
      }
    },
    {
      "cell_type": "code",
      "source": [
        "counties = data_2.groupby(['county', 'user_rank']).agg({'count_users': 'sum'})"
      ],
      "outputs": [],
      "execution_count": 142,
      "metadata": {
        "collapsed": false,
        "outputHidden": false,
        "inputHidden": false
      }
    },
    {
      "cell_type": "code",
      "source": [
        "counties"
      ],
      "outputs": [
        {
          "output_type": "execute_result",
          "execution_count": 144,
          "data": {
            "text/plain": [
              "                           count_users\n",
              "county          user_rank             \n",
              "Avon            Detractor          273\n",
              "                Passive            191\n",
              "                Promoter           349\n",
              "Bedfordshire    Detractor          153\n",
              "                Passive            108\n",
              "                Promoter           187\n",
              "Berkshire       Detractor          169\n",
              "                Passive            126\n",
              "                Promoter           218\n",
              "Buckinghamshire Detractor          137\n",
              "                Passive             87\n",
              "                Promoter           168\n",
              "Cambridgeshire  Detractor          132\n",
              "                Passive             97\n",
              "                Promoter           210\n",
              "Cheshire        Detractor          303\n",
              "                Passive            188\n",
              "                Promoter           373\n",
              "Clwyd           Detractor           83\n",
              "                Passive             58\n",
              "                Promoter           101\n",
              "Cornwall        Detractor          134\n",
              "                Passive            109\n",
              "                Promoter           203\n",
              "County Durham   Detractor          107\n",
              "                Passive             57\n",
              "                Promoter           153\n",
              "Derbyshire      Detractor          146\n",
              "                Passive            101\n",
              "                Promoter           186\n",
              "...                                ...\n",
              "Staffordshire   Detractor          203\n",
              "                Passive            131\n",
              "                Promoter           269\n",
              "Suffolk         Detractor          123\n",
              "                Passive             79\n",
              "                Promoter           161\n",
              "Surrey          Detractor          575\n",
              "                Passive            344\n",
              "                Promoter           685\n",
              "Tyne and Wear   Detractor          168\n",
              "                Passive            101\n",
              "                Promoter           218\n",
              "West Glamorgan  Detractor           98\n",
              "                Passive             50\n",
              "                Promoter           114\n",
              "West Midlands   Detractor          399\n",
              "                Passive            262\n",
              "                Promoter           513\n",
              "West Sussex     Detractor          193\n",
              "                Passive            113\n",
              "                Promoter           211\n",
              "West Yorkshire  Detractor          396\n",
              "                Passive            263\n",
              "                Promoter           527\n",
              "Wiltshire       Detractor          138\n",
              "                Passive             98\n",
              "                Promoter           186\n",
              "Worcestershire  Detractor           91\n",
              "                Passive             71\n",
              "                Promoter           145\n",
              "\n[153 rows x 1 columns]"
            ],
            "text/html": [
              "<div>\n",
              "<style scoped>\n",
              "    .dataframe tbody tr th:only-of-type {\n",
              "        vertical-align: middle;\n",
              "    }\n",
              "\n",
              "    .dataframe tbody tr th {\n",
              "        vertical-align: top;\n",
              "    }\n",
              "\n",
              "    .dataframe thead th {\n",
              "        text-align: right;\n",
              "    }\n",
              "</style>\n",
              "<table border=\"1\" class=\"dataframe\">\n",
              "  <thead>\n",
              "    <tr style=\"text-align: right;\">\n",
              "      <th></th>\n",
              "      <th></th>\n",
              "      <th>count_users</th>\n",
              "    </tr>\n",
              "    <tr>\n",
              "      <th>county</th>\n",
              "      <th>user_rank</th>\n",
              "      <th></th>\n",
              "    </tr>\n",
              "  </thead>\n",
              "  <tbody>\n",
              "    <tr>\n",
              "      <th rowspan=\"3\" valign=\"top\">Avon</th>\n",
              "      <th>Detractor</th>\n",
              "      <td>273</td>\n",
              "    </tr>\n",
              "    <tr>\n",
              "      <th>Passive</th>\n",
              "      <td>191</td>\n",
              "    </tr>\n",
              "    <tr>\n",
              "      <th>Promoter</th>\n",
              "      <td>349</td>\n",
              "    </tr>\n",
              "    <tr>\n",
              "      <th rowspan=\"3\" valign=\"top\">Bedfordshire</th>\n",
              "      <th>Detractor</th>\n",
              "      <td>153</td>\n",
              "    </tr>\n",
              "    <tr>\n",
              "      <th>Passive</th>\n",
              "      <td>108</td>\n",
              "    </tr>\n",
              "    <tr>\n",
              "      <th>Promoter</th>\n",
              "      <td>187</td>\n",
              "    </tr>\n",
              "    <tr>\n",
              "      <th rowspan=\"3\" valign=\"top\">Berkshire</th>\n",
              "      <th>Detractor</th>\n",
              "      <td>169</td>\n",
              "    </tr>\n",
              "    <tr>\n",
              "      <th>Passive</th>\n",
              "      <td>126</td>\n",
              "    </tr>\n",
              "    <tr>\n",
              "      <th>Promoter</th>\n",
              "      <td>218</td>\n",
              "    </tr>\n",
              "    <tr>\n",
              "      <th rowspan=\"3\" valign=\"top\">Buckinghamshire</th>\n",
              "      <th>Detractor</th>\n",
              "      <td>137</td>\n",
              "    </tr>\n",
              "    <tr>\n",
              "      <th>Passive</th>\n",
              "      <td>87</td>\n",
              "    </tr>\n",
              "    <tr>\n",
              "      <th>Promoter</th>\n",
              "      <td>168</td>\n",
              "    </tr>\n",
              "    <tr>\n",
              "      <th rowspan=\"3\" valign=\"top\">Cambridgeshire</th>\n",
              "      <th>Detractor</th>\n",
              "      <td>132</td>\n",
              "    </tr>\n",
              "    <tr>\n",
              "      <th>Passive</th>\n",
              "      <td>97</td>\n",
              "    </tr>\n",
              "    <tr>\n",
              "      <th>Promoter</th>\n",
              "      <td>210</td>\n",
              "    </tr>\n",
              "    <tr>\n",
              "      <th rowspan=\"3\" valign=\"top\">Cheshire</th>\n",
              "      <th>Detractor</th>\n",
              "      <td>303</td>\n",
              "    </tr>\n",
              "    <tr>\n",
              "      <th>Passive</th>\n",
              "      <td>188</td>\n",
              "    </tr>\n",
              "    <tr>\n",
              "      <th>Promoter</th>\n",
              "      <td>373</td>\n",
              "    </tr>\n",
              "    <tr>\n",
              "      <th rowspan=\"3\" valign=\"top\">Clwyd</th>\n",
              "      <th>Detractor</th>\n",
              "      <td>83</td>\n",
              "    </tr>\n",
              "    <tr>\n",
              "      <th>Passive</th>\n",
              "      <td>58</td>\n",
              "    </tr>\n",
              "    <tr>\n",
              "      <th>Promoter</th>\n",
              "      <td>101</td>\n",
              "    </tr>\n",
              "    <tr>\n",
              "      <th rowspan=\"3\" valign=\"top\">Cornwall</th>\n",
              "      <th>Detractor</th>\n",
              "      <td>134</td>\n",
              "    </tr>\n",
              "    <tr>\n",
              "      <th>Passive</th>\n",
              "      <td>109</td>\n",
              "    </tr>\n",
              "    <tr>\n",
              "      <th>Promoter</th>\n",
              "      <td>203</td>\n",
              "    </tr>\n",
              "    <tr>\n",
              "      <th rowspan=\"3\" valign=\"top\">County Durham</th>\n",
              "      <th>Detractor</th>\n",
              "      <td>107</td>\n",
              "    </tr>\n",
              "    <tr>\n",
              "      <th>Passive</th>\n",
              "      <td>57</td>\n",
              "    </tr>\n",
              "    <tr>\n",
              "      <th>Promoter</th>\n",
              "      <td>153</td>\n",
              "    </tr>\n",
              "    <tr>\n",
              "      <th rowspan=\"3\" valign=\"top\">Derbyshire</th>\n",
              "      <th>Detractor</th>\n",
              "      <td>146</td>\n",
              "    </tr>\n",
              "    <tr>\n",
              "      <th>Passive</th>\n",
              "      <td>101</td>\n",
              "    </tr>\n",
              "    <tr>\n",
              "      <th>Promoter</th>\n",
              "      <td>186</td>\n",
              "    </tr>\n",
              "    <tr>\n",
              "      <th>...</th>\n",
              "      <th>...</th>\n",
              "      <td>...</td>\n",
              "    </tr>\n",
              "    <tr>\n",
              "      <th rowspan=\"3\" valign=\"top\">Staffordshire</th>\n",
              "      <th>Detractor</th>\n",
              "      <td>203</td>\n",
              "    </tr>\n",
              "    <tr>\n",
              "      <th>Passive</th>\n",
              "      <td>131</td>\n",
              "    </tr>\n",
              "    <tr>\n",
              "      <th>Promoter</th>\n",
              "      <td>269</td>\n",
              "    </tr>\n",
              "    <tr>\n",
              "      <th rowspan=\"3\" valign=\"top\">Suffolk</th>\n",
              "      <th>Detractor</th>\n",
              "      <td>123</td>\n",
              "    </tr>\n",
              "    <tr>\n",
              "      <th>Passive</th>\n",
              "      <td>79</td>\n",
              "    </tr>\n",
              "    <tr>\n",
              "      <th>Promoter</th>\n",
              "      <td>161</td>\n",
              "    </tr>\n",
              "    <tr>\n",
              "      <th rowspan=\"3\" valign=\"top\">Surrey</th>\n",
              "      <th>Detractor</th>\n",
              "      <td>575</td>\n",
              "    </tr>\n",
              "    <tr>\n",
              "      <th>Passive</th>\n",
              "      <td>344</td>\n",
              "    </tr>\n",
              "    <tr>\n",
              "      <th>Promoter</th>\n",
              "      <td>685</td>\n",
              "    </tr>\n",
              "    <tr>\n",
              "      <th rowspan=\"3\" valign=\"top\">Tyne and Wear</th>\n",
              "      <th>Detractor</th>\n",
              "      <td>168</td>\n",
              "    </tr>\n",
              "    <tr>\n",
              "      <th>Passive</th>\n",
              "      <td>101</td>\n",
              "    </tr>\n",
              "    <tr>\n",
              "      <th>Promoter</th>\n",
              "      <td>218</td>\n",
              "    </tr>\n",
              "    <tr>\n",
              "      <th rowspan=\"3\" valign=\"top\">West Glamorgan</th>\n",
              "      <th>Detractor</th>\n",
              "      <td>98</td>\n",
              "    </tr>\n",
              "    <tr>\n",
              "      <th>Passive</th>\n",
              "      <td>50</td>\n",
              "    </tr>\n",
              "    <tr>\n",
              "      <th>Promoter</th>\n",
              "      <td>114</td>\n",
              "    </tr>\n",
              "    <tr>\n",
              "      <th rowspan=\"3\" valign=\"top\">West Midlands</th>\n",
              "      <th>Detractor</th>\n",
              "      <td>399</td>\n",
              "    </tr>\n",
              "    <tr>\n",
              "      <th>Passive</th>\n",
              "      <td>262</td>\n",
              "    </tr>\n",
              "    <tr>\n",
              "      <th>Promoter</th>\n",
              "      <td>513</td>\n",
              "    </tr>\n",
              "    <tr>\n",
              "      <th rowspan=\"3\" valign=\"top\">West Sussex</th>\n",
              "      <th>Detractor</th>\n",
              "      <td>193</td>\n",
              "    </tr>\n",
              "    <tr>\n",
              "      <th>Passive</th>\n",
              "      <td>113</td>\n",
              "    </tr>\n",
              "    <tr>\n",
              "      <th>Promoter</th>\n",
              "      <td>211</td>\n",
              "    </tr>\n",
              "    <tr>\n",
              "      <th rowspan=\"3\" valign=\"top\">West Yorkshire</th>\n",
              "      <th>Detractor</th>\n",
              "      <td>396</td>\n",
              "    </tr>\n",
              "    <tr>\n",
              "      <th>Passive</th>\n",
              "      <td>263</td>\n",
              "    </tr>\n",
              "    <tr>\n",
              "      <th>Promoter</th>\n",
              "      <td>527</td>\n",
              "    </tr>\n",
              "    <tr>\n",
              "      <th rowspan=\"3\" valign=\"top\">Wiltshire</th>\n",
              "      <th>Detractor</th>\n",
              "      <td>138</td>\n",
              "    </tr>\n",
              "    <tr>\n",
              "      <th>Passive</th>\n",
              "      <td>98</td>\n",
              "    </tr>\n",
              "    <tr>\n",
              "      <th>Promoter</th>\n",
              "      <td>186</td>\n",
              "    </tr>\n",
              "    <tr>\n",
              "      <th rowspan=\"3\" valign=\"top\">Worcestershire</th>\n",
              "      <th>Detractor</th>\n",
              "      <td>91</td>\n",
              "    </tr>\n",
              "    <tr>\n",
              "      <th>Passive</th>\n",
              "      <td>71</td>\n",
              "    </tr>\n",
              "    <tr>\n",
              "      <th>Promoter</th>\n",
              "      <td>145</td>\n",
              "    </tr>\n",
              "  </tbody>\n",
              "</table>\n",
              "<p>153 rows × 1 columns</p>\n",
              "</div>"
            ]
          },
          "metadata": {}
        }
      ],
      "execution_count": 144,
      "metadata": {
        "collapsed": false,
        "outputHidden": false,
        "inputHidden": false
      }
    },
    {
      "cell_type": "code",
      "source": [
        "counties_pcts = counties.groupby(level=0).apply(lambda x: 100 * x / float(x.sum()))"
      ],
      "outputs": [],
      "execution_count": 143,
      "metadata": {
        "collapsed": false,
        "outputHidden": false,
        "inputHidden": false
      }
    },
    {
      "cell_type": "code",
      "source": [
        "counties_pcts = counties_pcts.rename(columns={\"count_users\": \"percent_users\"})"
      ],
      "outputs": [],
      "execution_count": 77,
      "metadata": {
        "collapsed": false,
        "outputHidden": false,
        "inputHidden": false
      }
    },
    {
      "cell_type": "code",
      "source": [
        "counties_pcts = counties_pcts.reset_index()"
      ],
      "outputs": [],
      "execution_count": 78,
      "metadata": {
        "collapsed": false,
        "outputHidden": false,
        "inputHidden": false
      }
    },
    {
      "cell_type": "code",
      "source": [
        "counties_pcts[counties_pcts['user_type'] == 'Detractor'].sort_values(by = ['percent_users'], ascending=False).head(10)"
      ],
      "outputs": [
        {
          "output_type": "execute_result",
          "execution_count": 79,
          "data": {
            "text/plain": [
              "               county  user_type  percent_users\n",
              "135    West Glamorgan  Detractor      37.404580\n",
              "141       West Sussex  Detractor      37.330754\n",
              "99    North Yorkshire  Detractor      37.323944\n",
              "129            Surrey  Detractor      35.847880\n",
              "33             Dorset  Detractor      35.665914\n",
              "15           Cheshire  Detractor      35.069444\n",
              "102  Northamptonshire  Detractor      35.000000\n",
              "9     Buckinghamshire  Detractor      34.948980\n",
              "39        East Sussex  Detractor      34.804754\n",
              "75       Lincolnshire  Detractor      34.550562"
            ],
            "text/html": [
              "<div>\n",
              "<style scoped>\n",
              "    .dataframe tbody tr th:only-of-type {\n",
              "        vertical-align: middle;\n",
              "    }\n",
              "\n",
              "    .dataframe tbody tr th {\n",
              "        vertical-align: top;\n",
              "    }\n",
              "\n",
              "    .dataframe thead th {\n",
              "        text-align: right;\n",
              "    }\n",
              "</style>\n",
              "<table border=\"1\" class=\"dataframe\">\n",
              "  <thead>\n",
              "    <tr style=\"text-align: right;\">\n",
              "      <th></th>\n",
              "      <th>county</th>\n",
              "      <th>user_type</th>\n",
              "      <th>percent_users</th>\n",
              "    </tr>\n",
              "  </thead>\n",
              "  <tbody>\n",
              "    <tr>\n",
              "      <th>135</th>\n",
              "      <td>West Glamorgan</td>\n",
              "      <td>Detractor</td>\n",
              "      <td>37.404580</td>\n",
              "    </tr>\n",
              "    <tr>\n",
              "      <th>141</th>\n",
              "      <td>West Sussex</td>\n",
              "      <td>Detractor</td>\n",
              "      <td>37.330754</td>\n",
              "    </tr>\n",
              "    <tr>\n",
              "      <th>99</th>\n",
              "      <td>North Yorkshire</td>\n",
              "      <td>Detractor</td>\n",
              "      <td>37.323944</td>\n",
              "    </tr>\n",
              "    <tr>\n",
              "      <th>129</th>\n",
              "      <td>Surrey</td>\n",
              "      <td>Detractor</td>\n",
              "      <td>35.847880</td>\n",
              "    </tr>\n",
              "    <tr>\n",
              "      <th>33</th>\n",
              "      <td>Dorset</td>\n",
              "      <td>Detractor</td>\n",
              "      <td>35.665914</td>\n",
              "    </tr>\n",
              "    <tr>\n",
              "      <th>15</th>\n",
              "      <td>Cheshire</td>\n",
              "      <td>Detractor</td>\n",
              "      <td>35.069444</td>\n",
              "    </tr>\n",
              "    <tr>\n",
              "      <th>102</th>\n",
              "      <td>Northamptonshire</td>\n",
              "      <td>Detractor</td>\n",
              "      <td>35.000000</td>\n",
              "    </tr>\n",
              "    <tr>\n",
              "      <th>9</th>\n",
              "      <td>Buckinghamshire</td>\n",
              "      <td>Detractor</td>\n",
              "      <td>34.948980</td>\n",
              "    </tr>\n",
              "    <tr>\n",
              "      <th>39</th>\n",
              "      <td>East Sussex</td>\n",
              "      <td>Detractor</td>\n",
              "      <td>34.804754</td>\n",
              "    </tr>\n",
              "    <tr>\n",
              "      <th>75</th>\n",
              "      <td>Lincolnshire</td>\n",
              "      <td>Detractor</td>\n",
              "      <td>34.550562</td>\n",
              "    </tr>\n",
              "  </tbody>\n",
              "</table>\n",
              "</div>"
            ]
          },
          "metadata": {}
        }
      ],
      "execution_count": 79,
      "metadata": {
        "collapsed": false,
        "outputHidden": false,
        "inputHidden": false
      }
    },
    {
      "cell_type": "markdown",
      "source": [
        "#### Above is the list of the 10 counties (excluding small counties) by higher % of detractors over the total.\n",
        "Our recommendation to the Marketing team is to focus their campaigns on these counties, in order to compensate for the likely low level of word of month, and potentially complensate a negative publicity coming from the detractors.\n",
        "\nFurther more we investigate the type of trades within each of these groups to identify additional insight:"
      ],
      "metadata": {}
    },
    {
      "cell_type": "markdown",
      "source": [
        "Note: we are using only top ranked trade for each tradesman."
      ],
      "metadata": {}
    },
    {
      "cell_type": "code",
      "source": [
        "top_10_detractor_counties = counties_pcts[counties_pcts['user_type'] == 'Detractor'].sort_values(by = ['percent_users'], ascending=False).head(10)"
      ],
      "outputs": [],
      "execution_count": 80,
      "metadata": {
        "collapsed": false,
        "outputHidden": false,
        "inputHidden": false
      }
    },
    {
      "cell_type": "code",
      "source": [
        "top_10_detractor_counties"
      ],
      "outputs": [
        {
          "output_type": "execute_result",
          "execution_count": 81,
          "data": {
            "text/plain": [
              "               county  user_type  percent_users\n",
              "135    West Glamorgan  Detractor      37.404580\n",
              "141       West Sussex  Detractor      37.330754\n",
              "99    North Yorkshire  Detractor      37.323944\n",
              "129            Surrey  Detractor      35.847880\n",
              "33             Dorset  Detractor      35.665914\n",
              "15           Cheshire  Detractor      35.069444\n",
              "102  Northamptonshire  Detractor      35.000000\n",
              "9     Buckinghamshire  Detractor      34.948980\n",
              "39        East Sussex  Detractor      34.804754\n",
              "75       Lincolnshire  Detractor      34.550562"
            ],
            "text/html": [
              "<div>\n",
              "<style scoped>\n",
              "    .dataframe tbody tr th:only-of-type {\n",
              "        vertical-align: middle;\n",
              "    }\n",
              "\n",
              "    .dataframe tbody tr th {\n",
              "        vertical-align: top;\n",
              "    }\n",
              "\n",
              "    .dataframe thead th {\n",
              "        text-align: right;\n",
              "    }\n",
              "</style>\n",
              "<table border=\"1\" class=\"dataframe\">\n",
              "  <thead>\n",
              "    <tr style=\"text-align: right;\">\n",
              "      <th></th>\n",
              "      <th>county</th>\n",
              "      <th>user_type</th>\n",
              "      <th>percent_users</th>\n",
              "    </tr>\n",
              "  </thead>\n",
              "  <tbody>\n",
              "    <tr>\n",
              "      <th>135</th>\n",
              "      <td>West Glamorgan</td>\n",
              "      <td>Detractor</td>\n",
              "      <td>37.404580</td>\n",
              "    </tr>\n",
              "    <tr>\n",
              "      <th>141</th>\n",
              "      <td>West Sussex</td>\n",
              "      <td>Detractor</td>\n",
              "      <td>37.330754</td>\n",
              "    </tr>\n",
              "    <tr>\n",
              "      <th>99</th>\n",
              "      <td>North Yorkshire</td>\n",
              "      <td>Detractor</td>\n",
              "      <td>37.323944</td>\n",
              "    </tr>\n",
              "    <tr>\n",
              "      <th>129</th>\n",
              "      <td>Surrey</td>\n",
              "      <td>Detractor</td>\n",
              "      <td>35.847880</td>\n",
              "    </tr>\n",
              "    <tr>\n",
              "      <th>33</th>\n",
              "      <td>Dorset</td>\n",
              "      <td>Detractor</td>\n",
              "      <td>35.665914</td>\n",
              "    </tr>\n",
              "    <tr>\n",
              "      <th>15</th>\n",
              "      <td>Cheshire</td>\n",
              "      <td>Detractor</td>\n",
              "      <td>35.069444</td>\n",
              "    </tr>\n",
              "    <tr>\n",
              "      <th>102</th>\n",
              "      <td>Northamptonshire</td>\n",
              "      <td>Detractor</td>\n",
              "      <td>35.000000</td>\n",
              "    </tr>\n",
              "    <tr>\n",
              "      <th>9</th>\n",
              "      <td>Buckinghamshire</td>\n",
              "      <td>Detractor</td>\n",
              "      <td>34.948980</td>\n",
              "    </tr>\n",
              "    <tr>\n",
              "      <th>39</th>\n",
              "      <td>East Sussex</td>\n",
              "      <td>Detractor</td>\n",
              "      <td>34.804754</td>\n",
              "    </tr>\n",
              "    <tr>\n",
              "      <th>75</th>\n",
              "      <td>Lincolnshire</td>\n",
              "      <td>Detractor</td>\n",
              "      <td>34.550562</td>\n",
              "    </tr>\n",
              "  </tbody>\n",
              "</table>\n",
              "</div>"
            ]
          },
          "metadata": {}
        }
      ],
      "execution_count": 81,
      "metadata": {
        "collapsed": false,
        "outputHidden": false,
        "inputHidden": false
      }
    },
    {
      "cell_type": "code",
      "source": [
        "#top_10_detractor_counties_data = \n",
        "data_2[(data_2['user_type']=='Detractor') & (data_2['county'] == \"Lincolnshire\")]"
      ],
      "outputs": [
        {
          "output_type": "execute_result",
          "execution_count": 60,
          "data": {
            "text/plain": [
              "    user_type  count_users        county\n",
              "97  Detractor          123  Lincolnshire"
            ],
            "text/html": [
              "<div>\n",
              "<style scoped>\n",
              "    .dataframe tbody tr th:only-of-type {\n",
              "        vertical-align: middle;\n",
              "    }\n",
              "\n",
              "    .dataframe tbody tr th {\n",
              "        vertical-align: top;\n",
              "    }\n",
              "\n",
              "    .dataframe thead th {\n",
              "        text-align: right;\n",
              "    }\n",
              "</style>\n",
              "<table border=\"1\" class=\"dataframe\">\n",
              "  <thead>\n",
              "    <tr style=\"text-align: right;\">\n",
              "      <th></th>\n",
              "      <th>user_type</th>\n",
              "      <th>count_users</th>\n",
              "      <th>county</th>\n",
              "    </tr>\n",
              "  </thead>\n",
              "  <tbody>\n",
              "    <tr>\n",
              "      <th>97</th>\n",
              "      <td>Detractor</td>\n",
              "      <td>123</td>\n",
              "      <td>Lincolnshire</td>\n",
              "    </tr>\n",
              "  </tbody>\n",
              "</table>\n",
              "</div>"
            ]
          },
          "metadata": {}
        }
      ],
      "execution_count": 60,
      "metadata": {
        "collapsed": false,
        "outputHidden": false,
        "inputHidden": false
      }
    },
    {
      "cell_type": "code",
      "source": [
        "query_3 = \"\"\"\n",
        " WITH latest_users_survey AS (\n",
        "\tSELECT customer_happiness_questions_id\n",
        "\t\tFROM (\n",
        "\t\tSELECT customer_happiness_questions_id, \n",
        "\t\tROW_NUMBER() OVER (PARTITION BY user_id ORDER BY last_interest_expressed_at DESC) AS rn\n",
        "\t\tFROM tradesmen_last_interest\n",
        "\t\t) t\n",
        "\t\tWHERE rn = 1\n",
        "\t\t)\n",
        "\tSELECT \n",
        "\tCASE\n",
        "\t\tWHEN chq.rating < 7 THEN 'Detractor'\n",
        "\t\tWHEN chq.rating > 8 THEN 'Promoter'\n",
        "\t\tELSE 'Passive'\n",
        "\tEND as user_type,\n",
        " \tchq.user_id,\n",
        " \ttl.county,\n",
        "    tt.name as trade\n",
        " \tFROM customer_happiness_questions chq\n",
        " \tJOIN latest_users_survey lus ON chq.id = lus.customer_happiness_questions_id\n",
        " \tJOIN tradesman_locations tl ON tl.user_id = chq.user_id\n",
        " \tJOIN (\n",
        " \t\tSELECT *\n",
        "\t\tFROM tradesmen_trades \n",
        "\t\tWHERE pref_rank = 1 \n",
        " \t\t)tt ON tl.user_id = tt.user_id -- using only top ranked trade for simplicity\n",
        " ;\n",
        "\"\"\""
      ],
      "outputs": [],
      "execution_count": 177,
      "metadata": {
        "collapsed": false,
        "outputHidden": false,
        "inputHidden": false
      }
    },
    {
      "cell_type": "code",
      "source": [
        "data_3 = sqlio.read_sql_query(query_3, conn)"
      ],
      "outputs": [],
      "execution_count": 178,
      "metadata": {
        "collapsed": false,
        "outputHidden": false,
        "inputHidden": false
      }
    },
    {
      "cell_type": "code",
      "source": [
        "county_size = data_3.groupby(['county']).size().reset_index(name='count_users')"
      ],
      "outputs": [],
      "execution_count": 179,
      "metadata": {
        "collapsed": false,
        "outputHidden": false,
        "inputHidden": false
      }
    },
    {
      "cell_type": "code",
      "source": [
        "county_size = county_size.sort_values(by = ['count_users'], ascending=False)"
      ],
      "outputs": [],
      "execution_count": 180,
      "metadata": {
        "collapsed": false,
        "outputHidden": false,
        "inputHidden": false
      }
    },
    {
      "cell_type": "code",
      "source": [
        "ggplot(aes(x = \"county\", y = \"count_users\"),data = county_size)+\\\n",
        "        geom_point()+\\\n",
        "        scale_x_continuous(breaks = (0,12,24,36,48,60))"
      ],
      "outputs": [
        {
          "output_type": "display_data",
          "data": {
            "image/png": "[encoded data removed]",
            "text/plain": [
              "<Figure size 792x576 with 1 Axes>"
            ]
          },
          "metadata": {}
        },
        {
          "output_type": "execute_result",
          "execution_count": 181,
          "data": {
            "text/plain": [
              "<ggplot: (-9223372029300656103)>"
            ]
          },
          "metadata": {}
        }
      ],
      "execution_count": 181,
      "metadata": {
        "collapsed": false,
        "outputHidden": false,
        "inputHidden": false
      }
    },
    {
      "cell_type": "code",
      "source": [
        "## Create a list of counties with less than 200 users \n",
        "small_counties = county_size[county_size[\"count_users\"] <= 200][\"county\"].unique().tolist()"
      ],
      "outputs": [],
      "execution_count": 182,
      "metadata": {
        "collapsed": false,
        "outputHidden": false,
        "inputHidden": false
      }
    },
    {
      "cell_type": "code",
      "source": [
        "## Let's rename this small counties as Small Counties group\n",
        "data_3.loc[data_3.county.isin(small_counties), 'county'] = 'small_counties'"
      ],
      "outputs": [],
      "execution_count": 183,
      "metadata": {
        "collapsed": false,
        "outputHidden": false,
        "inputHidden": false
      }
    },
    {
      "cell_type": "code",
      "source": [
        "counties = data_3.groupby(['county', 'user_type']).size().reset_index(name='count_users')"
      ],
      "outputs": [],
      "execution_count": 188,
      "metadata": {
        "collapsed": false,
        "outputHidden": false,
        "inputHidden": false
      }
    },
    {
      "cell_type": "code",
      "source": [
        "counties = counties.sort_values(by = ['count_users'], ascending=False)"
      ],
      "outputs": [],
      "execution_count": 189,
      "metadata": {
        "collapsed": false,
        "outputHidden": false,
        "inputHidden": false
      }
    },
    {
      "cell_type": "code",
      "source": [
        "ggplot(aes(x = \"county\", y = \"count_users\", color = 'user_type'),data = counties[counties[\"county\"] != \"small_counties\"])+\\\n",
        "        geom_point()+\\\n",
        "        scale_x_continuous(breaks = (0,10,20,30,40,50))"
      ],
      "outputs": [
        {
          "output_type": "display_data",
          "data": {
            "image/png": "[encoded data removed]",
            "text/plain": [
              "<Figure size 792x576 with 1 Axes>"
            ]
          },
          "metadata": {}
        },
        {
          "output_type": "execute_result",
          "execution_count": 190,
          "data": {
            "text/plain": [
              "<ggplot: (-9223372029302471529)>"
            ]
          },
          "metadata": {}
        }
      ],
      "execution_count": 190,
      "metadata": {
        "collapsed": false,
        "outputHidden": false,
        "inputHidden": false
      }
    },
    {
      "cell_type": "code",
      "source": [
        "# Let's have a look at the counties with higher percentage of detractors"
      ],
      "outputs": [],
      "execution_count": 174,
      "metadata": {
        "collapsed": false,
        "outputHidden": false,
        "inputHidden": false
      }
    },
    {
      "cell_type": "code",
      "source": [
        "counties = data_3.groupby(['county', 'user_type']).size().to_frame()"
      ],
      "outputs": [],
      "execution_count": 230,
      "metadata": {
        "collapsed": false,
        "outputHidden": false,
        "inputHidden": false
      }
    },
    {
      "cell_type": "code",
      "source": [
        "counties_pcts = counties.groupby(level=0).apply(lambda x: 100 * x / float(x.sum()))"
      ],
      "outputs": [],
      "execution_count": 231,
      "metadata": {
        "collapsed": false,
        "outputHidden": false,
        "inputHidden": false
      }
    },
    {
      "cell_type": "code",
      "source": [
        "counties_pcts = counties_pcts.reset_index()"
      ],
      "outputs": [],
      "execution_count": 232,
      "metadata": {
        "collapsed": false,
        "outputHidden": false,
        "inputHidden": false
      }
    },
    {
      "cell_type": "code",
      "source": [
        "counties_pcts.rename(columns={0:'percent_users'}, inplace=True) "
      ],
      "outputs": [],
      "execution_count": 233,
      "metadata": {
        "collapsed": false,
        "outputHidden": false,
        "inputHidden": false
      }
    },
    {
      "cell_type": "code",
      "source": [
        "counties_pcts"
      ],
      "outputs": [
        {
          "output_type": "execute_result",
          "execution_count": 234,
          "data": {
            "text/plain": [
              "              county  user_type  percent_users\n",
              "0               Avon  Detractor      36.883943\n",
              "1               Avon    Passive      18.918919\n",
              "2               Avon   Promoter      44.197138\n",
              "3       Bedfordshire  Detractor      39.825581\n",
              "4       Bedfordshire    Passive      16.279070\n",
              "5       Bedfordshire   Promoter      43.895349\n",
              "6          Berkshire  Detractor      35.500000\n",
              "7          Berkshire    Passive      20.500000\n",
              "8          Berkshire   Promoter      44.000000\n",
              "9    Buckinghamshire  Detractor      39.687500\n",
              "10   Buckinghamshire    Passive      18.750000\n",
              "11   Buckinghamshire   Promoter      41.562500\n",
              "12    Cambridgeshire  Detractor      30.205279\n",
              "13    Cambridgeshire    Passive      19.354839\n",
              "14    Cambridgeshire   Promoter      50.439883\n",
              "15          Cheshire  Detractor      39.264706\n",
              "16          Cheshire    Passive      16.911765\n",
              "17          Cheshire   Promoter      43.823529\n",
              "18          Cornwall  Detractor      34.857143\n",
              "19          Cornwall    Passive      17.714286\n",
              "20          Cornwall   Promoter      47.428571\n",
              "21     County Durham  Detractor      36.470588\n",
              "22     County Durham    Passive      12.156863\n",
              "23     County Durham   Promoter      51.372549\n",
              "24        Derbyshire  Detractor      40.483384\n",
              "25        Derbyshire    Passive      15.105740\n",
              "26        Derbyshire   Promoter      44.410876\n",
              "27             Devon  Detractor      38.108883\n",
              "28             Devon    Passive      18.194842\n",
              "29             Devon   Promoter      43.696275\n",
              "..               ...        ...            ...\n",
              "111          Suffolk  Detractor      36.949153\n",
              "112          Suffolk    Passive      17.627119\n",
              "113          Suffolk   Promoter      45.423729\n",
              "114           Surrey  Detractor      39.890710\n",
              "115           Surrey    Passive      16.471507\n",
              "116           Surrey   Promoter      43.637783\n",
              "117    Tyne and Wear  Detractor      39.893617\n",
              "118    Tyne and Wear    Passive      14.893617\n",
              "119    Tyne and Wear   Promoter      45.212766\n",
              "120   West Glamorgan  Detractor      41.095890\n",
              "121   West Glamorgan    Passive      14.155251\n",
              "122   West Glamorgan   Promoter      44.748858\n",
              "123    West Midlands  Detractor      36.942675\n",
              "124    West Midlands    Passive      18.152866\n",
              "125    West Midlands   Promoter      44.904459\n",
              "126      West Sussex  Detractor      42.344498\n",
              "127      West Sussex    Passive      17.224880\n",
              "128      West Sussex   Promoter      40.430622\n",
              "129   West Yorkshire  Detractor      36.516264\n",
              "130   West Yorkshire    Passive      19.097587\n",
              "131   West Yorkshire   Promoter      44.386149\n",
              "132        Wiltshire  Detractor      36.111111\n",
              "133        Wiltshire    Passive      18.209877\n",
              "134        Wiltshire   Promoter      45.679012\n",
              "135   Worcestershire  Detractor      33.333333\n",
              "136   Worcestershire    Passive      18.143460\n",
              "137   Worcestershire   Promoter      48.523207\n",
              "138   small_counties  Detractor      35.212982\n",
              "139   small_counties    Passive      17.809331\n",
              "140   small_counties   Promoter      46.977688\n",
              "\n[141 rows x 3 columns]"
            ],
            "text/html": [
              "<div>\n",
              "<style scoped>\n",
              "    .dataframe tbody tr th:only-of-type {\n",
              "        vertical-align: middle;\n",
              "    }\n",
              "\n",
              "    .dataframe tbody tr th {\n",
              "        vertical-align: top;\n",
              "    }\n",
              "\n",
              "    .dataframe thead th {\n",
              "        text-align: right;\n",
              "    }\n",
              "</style>\n",
              "<table border=\"1\" class=\"dataframe\">\n",
              "  <thead>\n",
              "    <tr style=\"text-align: right;\">\n",
              "      <th></th>\n",
              "      <th>county</th>\n",
              "      <th>user_type</th>\n",
              "      <th>percent_users</th>\n",
              "    </tr>\n",
              "  </thead>\n",
              "  <tbody>\n",
              "    <tr>\n",
              "      <th>0</th>\n",
              "      <td>Avon</td>\n",
              "      <td>Detractor</td>\n",
              "      <td>36.883943</td>\n",
              "    </tr>\n",
              "    <tr>\n",
              "      <th>1</th>\n",
              "      <td>Avon</td>\n",
              "      <td>Passive</td>\n",
              "      <td>18.918919</td>\n",
              "    </tr>\n",
              "    <tr>\n",
              "      <th>2</th>\n",
              "      <td>Avon</td>\n",
              "      <td>Promoter</td>\n",
              "      <td>44.197138</td>\n",
              "    </tr>\n",
              "    <tr>\n",
              "      <th>3</th>\n",
              "      <td>Bedfordshire</td>\n",
              "      <td>Detractor</td>\n",
              "      <td>39.825581</td>\n",
              "    </tr>\n",
              "    <tr>\n",
              "      <th>4</th>\n",
              "      <td>Bedfordshire</td>\n",
              "      <td>Passive</td>\n",
              "      <td>16.279070</td>\n",
              "    </tr>\n",
              "    <tr>\n",
              "      <th>5</th>\n",
              "      <td>Bedfordshire</td>\n",
              "      <td>Promoter</td>\n",
              "      <td>43.895349</td>\n",
              "    </tr>\n",
              "    <tr>\n",
              "      <th>6</th>\n",
              "      <td>Berkshire</td>\n",
              "      <td>Detractor</td>\n",
              "      <td>35.500000</td>\n",
              "    </tr>\n",
              "    <tr>\n",
              "      <th>7</th>\n",
              "      <td>Berkshire</td>\n",
              "      <td>Passive</td>\n",
              "      <td>20.500000</td>\n",
              "    </tr>\n",
              "    <tr>\n",
              "      <th>8</th>\n",
              "      <td>Berkshire</td>\n",
              "      <td>Promoter</td>\n",
              "      <td>44.000000</td>\n",
              "    </tr>\n",
              "    <tr>\n",
              "      <th>9</th>\n",
              "      <td>Buckinghamshire</td>\n",
              "      <td>Detractor</td>\n",
              "      <td>39.687500</td>\n",
              "    </tr>\n",
              "    <tr>\n",
              "      <th>10</th>\n",
              "      <td>Buckinghamshire</td>\n",
              "      <td>Passive</td>\n",
              "      <td>18.750000</td>\n",
              "    </tr>\n",
              "    <tr>\n",
              "      <th>11</th>\n",
              "      <td>Buckinghamshire</td>\n",
              "      <td>Promoter</td>\n",
              "      <td>41.562500</td>\n",
              "    </tr>\n",
              "    <tr>\n",
              "      <th>12</th>\n",
              "      <td>Cambridgeshire</td>\n",
              "      <td>Detractor</td>\n",
              "      <td>30.205279</td>\n",
              "    </tr>\n",
              "    <tr>\n",
              "      <th>13</th>\n",
              "      <td>Cambridgeshire</td>\n",
              "      <td>Passive</td>\n",
              "      <td>19.354839</td>\n",
              "    </tr>\n",
              "    <tr>\n",
              "      <th>14</th>\n",
              "      <td>Cambridgeshire</td>\n",
              "      <td>Promoter</td>\n",
              "      <td>50.439883</td>\n",
              "    </tr>\n",
              "    <tr>\n",
              "      <th>15</th>\n",
              "      <td>Cheshire</td>\n",
              "      <td>Detractor</td>\n",
              "      <td>39.264706</td>\n",
              "    </tr>\n",
              "    <tr>\n",
              "      <th>16</th>\n",
              "      <td>Cheshire</td>\n",
              "      <td>Passive</td>\n",
              "      <td>16.911765</td>\n",
              "    </tr>\n",
              "    <tr>\n",
              "      <th>17</th>\n",
              "      <td>Cheshire</td>\n",
              "      <td>Promoter</td>\n",
              "      <td>43.823529</td>\n",
              "    </tr>\n",
              "    <tr>\n",
              "      <th>18</th>\n",
              "      <td>Cornwall</td>\n",
              "      <td>Detractor</td>\n",
              "      <td>34.857143</td>\n",
              "    </tr>\n",
              "    <tr>\n",
              "      <th>19</th>\n",
              "      <td>Cornwall</td>\n",
              "      <td>Passive</td>\n",
              "      <td>17.714286</td>\n",
              "    </tr>\n",
              "    <tr>\n",
              "      <th>20</th>\n",
              "      <td>Cornwall</td>\n",
              "      <td>Promoter</td>\n",
              "      <td>47.428571</td>\n",
              "    </tr>\n",
              "    <tr>\n",
              "      <th>21</th>\n",
              "      <td>County Durham</td>\n",
              "      <td>Detractor</td>\n",
              "      <td>36.470588</td>\n",
              "    </tr>\n",
              "    <tr>\n",
              "      <th>22</th>\n",
              "      <td>County Durham</td>\n",
              "      <td>Passive</td>\n",
              "      <td>12.156863</td>\n",
              "    </tr>\n",
              "    <tr>\n",
              "      <th>23</th>\n",
              "      <td>County Durham</td>\n",
              "      <td>Promoter</td>\n",
              "      <td>51.372549</td>\n",
              "    </tr>\n",
              "    <tr>\n",
              "      <th>24</th>\n",
              "      <td>Derbyshire</td>\n",
              "      <td>Detractor</td>\n",
              "      <td>40.483384</td>\n",
              "    </tr>\n",
              "    <tr>\n",
              "      <th>25</th>\n",
              "      <td>Derbyshire</td>\n",
              "      <td>Passive</td>\n",
              "      <td>15.105740</td>\n",
              "    </tr>\n",
              "    <tr>\n",
              "      <th>26</th>\n",
              "      <td>Derbyshire</td>\n",
              "      <td>Promoter</td>\n",
              "      <td>44.410876</td>\n",
              "    </tr>\n",
              "    <tr>\n",
              "      <th>27</th>\n",
              "      <td>Devon</td>\n",
              "      <td>Detractor</td>\n",
              "      <td>38.108883</td>\n",
              "    </tr>\n",
              "    <tr>\n",
              "      <th>28</th>\n",
              "      <td>Devon</td>\n",
              "      <td>Passive</td>\n",
              "      <td>18.194842</td>\n",
              "    </tr>\n",
              "    <tr>\n",
              "      <th>29</th>\n",
              "      <td>Devon</td>\n",
              "      <td>Promoter</td>\n",
              "      <td>43.696275</td>\n",
              "    </tr>\n",
              "    <tr>\n",
              "      <th>...</th>\n",
              "      <td>...</td>\n",
              "      <td>...</td>\n",
              "      <td>...</td>\n",
              "    </tr>\n",
              "    <tr>\n",
              "      <th>111</th>\n",
              "      <td>Suffolk</td>\n",
              "      <td>Detractor</td>\n",
              "      <td>36.949153</td>\n",
              "    </tr>\n",
              "    <tr>\n",
              "      <th>112</th>\n",
              "      <td>Suffolk</td>\n",
              "      <td>Passive</td>\n",
              "      <td>17.627119</td>\n",
              "    </tr>\n",
              "    <tr>\n",
              "      <th>113</th>\n",
              "      <td>Suffolk</td>\n",
              "      <td>Promoter</td>\n",
              "      <td>45.423729</td>\n",
              "    </tr>\n",
              "    <tr>\n",
              "      <th>114</th>\n",
              "      <td>Surrey</td>\n",
              "      <td>Detractor</td>\n",
              "      <td>39.890710</td>\n",
              "    </tr>\n",
              "    <tr>\n",
              "      <th>115</th>\n",
              "      <td>Surrey</td>\n",
              "      <td>Passive</td>\n",
              "      <td>16.471507</td>\n",
              "    </tr>\n",
              "    <tr>\n",
              "      <th>116</th>\n",
              "      <td>Surrey</td>\n",
              "      <td>Promoter</td>\n",
              "      <td>43.637783</td>\n",
              "    </tr>\n",
              "    <tr>\n",
              "      <th>117</th>\n",
              "      <td>Tyne and Wear</td>\n",
              "      <td>Detractor</td>\n",
              "      <td>39.893617</td>\n",
              "    </tr>\n",
              "    <tr>\n",
              "      <th>118</th>\n",
              "      <td>Tyne and Wear</td>\n",
              "      <td>Passive</td>\n",
              "      <td>14.893617</td>\n",
              "    </tr>\n",
              "    <tr>\n",
              "      <th>119</th>\n",
              "      <td>Tyne and Wear</td>\n",
              "      <td>Promoter</td>\n",
              "      <td>45.212766</td>\n",
              "    </tr>\n",
              "    <tr>\n",
              "      <th>120</th>\n",
              "      <td>West Glamorgan</td>\n",
              "      <td>Detractor</td>\n",
              "      <td>41.095890</td>\n",
              "    </tr>\n",
              "    <tr>\n",
              "      <th>121</th>\n",
              "      <td>West Glamorgan</td>\n",
              "      <td>Passive</td>\n",
              "      <td>14.155251</td>\n",
              "    </tr>\n",
              "    <tr>\n",
              "      <th>122</th>\n",
              "      <td>West Glamorgan</td>\n",
              "      <td>Promoter</td>\n",
              "      <td>44.748858</td>\n",
              "    </tr>\n",
              "    <tr>\n",
              "      <th>123</th>\n",
              "      <td>West Midlands</td>\n",
              "      <td>Detractor</td>\n",
              "      <td>36.942675</td>\n",
              "    </tr>\n",
              "    <tr>\n",
              "      <th>124</th>\n",
              "      <td>West Midlands</td>\n",
              "      <td>Passive</td>\n",
              "      <td>18.152866</td>\n",
              "    </tr>\n",
              "    <tr>\n",
              "      <th>125</th>\n",
              "      <td>West Midlands</td>\n",
              "      <td>Promoter</td>\n",
              "      <td>44.904459</td>\n",
              "    </tr>\n",
              "    <tr>\n",
              "      <th>126</th>\n",
              "      <td>West Sussex</td>\n",
              "      <td>Detractor</td>\n",
              "      <td>42.344498</td>\n",
              "    </tr>\n",
              "    <tr>\n",
              "      <th>127</th>\n",
              "      <td>West Sussex</td>\n",
              "      <td>Passive</td>\n",
              "      <td>17.224880</td>\n",
              "    </tr>\n",
              "    <tr>\n",
              "      <th>128</th>\n",
              "      <td>West Sussex</td>\n",
              "      <td>Promoter</td>\n",
              "      <td>40.430622</td>\n",
              "    </tr>\n",
              "    <tr>\n",
              "      <th>129</th>\n",
              "      <td>West Yorkshire</td>\n",
              "      <td>Detractor</td>\n",
              "      <td>36.516264</td>\n",
              "    </tr>\n",
              "    <tr>\n",
              "      <th>130</th>\n",
              "      <td>West Yorkshire</td>\n",
              "      <td>Passive</td>\n",
              "      <td>19.097587</td>\n",
              "    </tr>\n",
              "    <tr>\n",
              "      <th>131</th>\n",
              "      <td>West Yorkshire</td>\n",
              "      <td>Promoter</td>\n",
              "      <td>44.386149</td>\n",
              "    </tr>\n",
              "    <tr>\n",
              "      <th>132</th>\n",
              "      <td>Wiltshire</td>\n",
              "      <td>Detractor</td>\n",
              "      <td>36.111111</td>\n",
              "    </tr>\n",
              "    <tr>\n",
              "      <th>133</th>\n",
              "      <td>Wiltshire</td>\n",
              "      <td>Passive</td>\n",
              "      <td>18.209877</td>\n",
              "    </tr>\n",
              "    <tr>\n",
              "      <th>134</th>\n",
              "      <td>Wiltshire</td>\n",
              "      <td>Promoter</td>\n",
              "      <td>45.679012</td>\n",
              "    </tr>\n",
              "    <tr>\n",
              "      <th>135</th>\n",
              "      <td>Worcestershire</td>\n",
              "      <td>Detractor</td>\n",
              "      <td>33.333333</td>\n",
              "    </tr>\n",
              "    <tr>\n",
              "      <th>136</th>\n",
              "      <td>Worcestershire</td>\n",
              "      <td>Passive</td>\n",
              "      <td>18.143460</td>\n",
              "    </tr>\n",
              "    <tr>\n",
              "      <th>137</th>\n",
              "      <td>Worcestershire</td>\n",
              "      <td>Promoter</td>\n",
              "      <td>48.523207</td>\n",
              "    </tr>\n",
              "    <tr>\n",
              "      <th>138</th>\n",
              "      <td>small_counties</td>\n",
              "      <td>Detractor</td>\n",
              "      <td>35.212982</td>\n",
              "    </tr>\n",
              "    <tr>\n",
              "      <th>139</th>\n",
              "      <td>small_counties</td>\n",
              "      <td>Passive</td>\n",
              "      <td>17.809331</td>\n",
              "    </tr>\n",
              "    <tr>\n",
              "      <th>140</th>\n",
              "      <td>small_counties</td>\n",
              "      <td>Promoter</td>\n",
              "      <td>46.977688</td>\n",
              "    </tr>\n",
              "  </tbody>\n",
              "</table>\n",
              "<p>141 rows × 3 columns</p>\n",
              "</div>"
            ]
          },
          "metadata": {}
        }
      ],
      "execution_count": 234,
      "metadata": {
        "collapsed": false,
        "outputHidden": false,
        "inputHidden": false
      }
    },
    {
      "cell_type": "code",
      "source": [
        "top_10_detractor_counties = counties_pcts[counties_pcts['user_type'] == 'Detractor'].sort_values(by = ['percent_users'], ascending=False).head(10)"
      ],
      "outputs": [],
      "execution_count": 235,
      "metadata": {
        "collapsed": false,
        "outputHidden": false,
        "inputHidden": false
      }
    },
    {
      "cell_type": "code",
      "source": [
        "top_10_detractor_counties"
      ],
      "outputs": [
        {
          "output_type": "execute_result",
          "execution_count": 236,
          "data": {
            "text/plain": [
              "              county  user_type  percent_users\n",
              "126      West Sussex  Detractor      42.344498\n",
              "120   West Glamorgan  Detractor      41.095890\n",
              "87   North Yorkshire  Detractor      40.625000\n",
              "24        Derbyshire  Detractor      40.483384\n",
              "117    Tyne and Wear  Detractor      39.893617\n",
              "114           Surrey  Detractor      39.890710\n",
              "30            Dorset  Detractor      39.825581\n",
              "3       Bedfordshire  Detractor      39.825581\n",
              "9    Buckinghamshire  Detractor      39.687500\n",
              "15          Cheshire  Detractor      39.264706"
            ],
            "text/html": [
              "<div>\n",
              "<style scoped>\n",
              "    .dataframe tbody tr th:only-of-type {\n",
              "        vertical-align: middle;\n",
              "    }\n",
              "\n",
              "    .dataframe tbody tr th {\n",
              "        vertical-align: top;\n",
              "    }\n",
              "\n",
              "    .dataframe thead th {\n",
              "        text-align: right;\n",
              "    }\n",
              "</style>\n",
              "<table border=\"1\" class=\"dataframe\">\n",
              "  <thead>\n",
              "    <tr style=\"text-align: right;\">\n",
              "      <th></th>\n",
              "      <th>county</th>\n",
              "      <th>user_type</th>\n",
              "      <th>percent_users</th>\n",
              "    </tr>\n",
              "  </thead>\n",
              "  <tbody>\n",
              "    <tr>\n",
              "      <th>126</th>\n",
              "      <td>West Sussex</td>\n",
              "      <td>Detractor</td>\n",
              "      <td>42.344498</td>\n",
              "    </tr>\n",
              "    <tr>\n",
              "      <th>120</th>\n",
              "      <td>West Glamorgan</td>\n",
              "      <td>Detractor</td>\n",
              "      <td>41.095890</td>\n",
              "    </tr>\n",
              "    <tr>\n",
              "      <th>87</th>\n",
              "      <td>North Yorkshire</td>\n",
              "      <td>Detractor</td>\n",
              "      <td>40.625000</td>\n",
              "    </tr>\n",
              "    <tr>\n",
              "      <th>24</th>\n",
              "      <td>Derbyshire</td>\n",
              "      <td>Detractor</td>\n",
              "      <td>40.483384</td>\n",
              "    </tr>\n",
              "    <tr>\n",
              "      <th>117</th>\n",
              "      <td>Tyne and Wear</td>\n",
              "      <td>Detractor</td>\n",
              "      <td>39.893617</td>\n",
              "    </tr>\n",
              "    <tr>\n",
              "      <th>114</th>\n",
              "      <td>Surrey</td>\n",
              "      <td>Detractor</td>\n",
              "      <td>39.890710</td>\n",
              "    </tr>\n",
              "    <tr>\n",
              "      <th>30</th>\n",
              "      <td>Dorset</td>\n",
              "      <td>Detractor</td>\n",
              "      <td>39.825581</td>\n",
              "    </tr>\n",
              "    <tr>\n",
              "      <th>3</th>\n",
              "      <td>Bedfordshire</td>\n",
              "      <td>Detractor</td>\n",
              "      <td>39.825581</td>\n",
              "    </tr>\n",
              "    <tr>\n",
              "      <th>9</th>\n",
              "      <td>Buckinghamshire</td>\n",
              "      <td>Detractor</td>\n",
              "      <td>39.687500</td>\n",
              "    </tr>\n",
              "    <tr>\n",
              "      <th>15</th>\n",
              "      <td>Cheshire</td>\n",
              "      <td>Detractor</td>\n",
              "      <td>39.264706</td>\n",
              "    </tr>\n",
              "  </tbody>\n",
              "</table>\n",
              "</div>"
            ]
          },
          "metadata": {}
        }
      ],
      "execution_count": 236,
      "metadata": {
        "collapsed": false,
        "outputHidden": false,
        "inputHidden": false
      }
    },
    {
      "cell_type": "markdown",
      "source": [
        "#### Above is the list of the 10 counties (excluding small counties) by higher % of detractors over the total.\n",
        "Our recommendation to the Marketing team is to focus their campaigns on these counties, in order to compensate for the likely low level of word of month, and potentially complensate a negative publicity coming from the detractors.\n",
        "\nFurther more we investigate the type of trades within each of these groups to identify additional insight. Note: we are using only top ranked trade for each tradesman."
      ],
      "metadata": {}
    },
    {
      "cell_type": "markdown",
      "source": [],
      "metadata": {}
    }
  ],
  "metadata": {
    "kernel_info": {
      "name": "facebook_data_package"
    },
    "language_info": {
      "pygments_lexer": "ipython3",
      "version": "3.5.4",
      "mimetype": "text/x-python",
      "name": "python",
      "codemirror_mode": {
        "name": "ipython",
        "version": 3
      },
      "file_extension": ".py",
      "nbconvert_exporter": "python"
    },
    "kernelspec": {
      "name": "facebook_data_package",
      "language": "python",
      "display_name": "facebook_data_package"
    },
    "nteract": {
      "version": "0.11.7"
    }
  },
  "nbformat": 4,
  "nbformat_minor": 4
}