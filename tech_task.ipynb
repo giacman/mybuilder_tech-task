{
  "cells": [
    {
      "cell_type": "code",
      "source": [
        "import pandas as pd\n",
        "import psycopg2\n",
        "import config as c\n",
        "import pandas.io.sql as sqlio"
      ],
      "outputs": [],
      "execution_count": 2,
      "metadata": {
        "collapsed": false,
        "outputHidden": false,
        "inputHidden": false
      }
    },
    {
      "cell_type": "code",
      "source": [
        "conn = psycopg2.connect(host=c.host,\n",
        "                        database=c.data_base,\n",
        "                        user=c.user_name,\n",
        "                        password=c.password\n",
        "                        )"
      ],
      "outputs": [],
      "execution_count": 3,
      "metadata": {
        "collapsed": false,
        "outputHidden": false,
        "inputHidden": false
      }
    },
    {
      "cell_type": "markdown",
      "source": [
        "### Quation 1\n",
        "We think there is a seasonality factor to our NPS data for tradesman. Splice the data and show how seasonality affects our service, giving an example or two as to why NPS may go up/down throughout the year."
      ],
      "metadata": {}
    },
    {
      "cell_type": "code",
      "source": [
        "query_quarterly = \"\"\"\n",
        "WITH final_table AS (\n",
        "\n",
        "\t\tWITH mid_table AS \n",
        "\t\t\t( \n",
        "\t\t\tSELECT cohort_year, cohort_quarter, AVG(net_promoter_score) as quarterly_average_score \n",
        "\t\t\tFROM \n",
        "\t\t\t\t(SELECT \n",
        "\t\t\t\tDATE_PART('quarter',end_of_period) as cohort_quarter, \n",
        "\t\t\t\tDATE_PART('year',end_of_period) AS cohort_year,*\n",
        "\t\t\t\tFROM customer_happiness_cohorts\n",
        "\t\t\t\tWHERE type = 'tradesman') t\n",
        "\t\t\tGROUP BY cohort_year,cohort_quarter\n",
        "\t\t\tORDER BY quarterly_average_score DESC\n",
        "\t\t\t) \n",
        "\t\t\tSELECT \n",
        "\t\t\t\tcohort_year,cohort_quarter, \n",
        "\t\t\t\tquarterly_average_score, \n",
        "\t\t\t\tAVG(quarterly_average_score) OVER (order by cohort_year, cohort_quarter rows between 1 preceding and 2 following) as moving_average \n",
        "\t\t\tFROM mid_table\n",
        "\t\t\torder by cohort_year, cohort_quarter asc\n",
        "\t\t\t)\n",
        "SELECT \n",
        "\tcohort_year,cohort_quarter, \n",
        "\tquarterly_average_score/moving_average AS seasonal_index,\n",
        "\tquarterly_average_score,\n",
        "\tmoving_average\n",
        "FROM final_table\n",
        "ORDER BY seasonal_index DESC\n",
        ";\n",
        "\"\"\""
      ],
      "outputs": [],
      "execution_count": 4,
      "metadata": {
        "collapsed": false,
        "outputHidden": false,
        "inputHidden": false
      }
    },
    {
      "cell_type": "code",
      "source": [
        "data = sqlio.read_sql_query(query_quarterly, conn)"
      ],
      "outputs": [],
      "execution_count": 8,
      "metadata": {
        "collapsed": false,
        "outputHidden": false,
        "inputHidden": false
      }
    },
    {
      "cell_type": "code",
      "source": [
        "pd.to_datetime('2015Q1').to_period('Q')"
      ],
      "outputs": [
        {
          "output_type": "execute_result",
          "execution_count": 24,
          "data": {
            "text/plain": [
              "Period('2015Q1', 'Q-DEC')"
            ]
          },
          "metadata": {}
        }
      ],
      "execution_count": 24,
      "metadata": {
        "collapsed": false,
        "outputHidden": false,
        "inputHidden": false
      }
    },
    {
      "cell_type": "code",
      "source": [
        "data[\"period\"] = data[\"cohort_year\"].map(str) + data[\"cohort_quarter\"].map(str)"
      ],
      "outputs": [],
      "execution_count": 25,
      "metadata": {
        "collapsed": false,
        "outputHidden": false,
        "inputHidden": false
      }
    },
    {
      "cell_type": "code",
      "source": [
        "data.head()"
      ],
      "outputs": [
        {
          "output_type": "execute_result",
          "execution_count": 127,
          "data": {
            "text/html": [
              "<div>\n",
              "<style scoped>\n",
              "    .dataframe tbody tr th:only-of-type {\n",
              "        vertical-align: middle;\n",
              "    }\n",
              "\n",
              "    .dataframe tbody tr th {\n",
              "        vertical-align: top;\n",
              "    }\n",
              "\n",
              "    .dataframe thead th {\n",
              "        text-align: right;\n",
              "    }\n",
              "</style>\n",
              "<table border=\"1\" class=\"dataframe\">\n",
              "  <thead>\n",
              "    <tr style=\"text-align: right;\">\n",
              "      <th></th>\n",
              "      <th>user_rank</th>\n",
              "      <th>count_users</th>\n",
              "      <th>county</th>\n",
              "    </tr>\n",
              "  </thead>\n",
              "  <tbody>\n",
              "    <tr>\n",
              "      <th>0</th>\n",
              "      <td>Other</td>\n",
              "      <td>1820</td>\n",
              "      <td>London</td>\n",
              "    </tr>\n",
              "    <tr>\n",
              "      <th>1</th>\n",
              "      <td>Other</td>\n",
              "      <td>1195</td>\n",
              "      <td>Essex</td>\n",
              "    </tr>\n",
              "    <tr>\n",
              "      <th>2</th>\n",
              "      <td>Other</td>\n",
              "      <td>1113</td>\n",
              "      <td>Lancashire</td>\n",
              "    </tr>\n",
              "    <tr>\n",
              "      <th>3</th>\n",
              "      <td>Other</td>\n",
              "      <td>1110</td>\n",
              "      <td>Kent</td>\n",
              "    </tr>\n",
              "    <tr>\n",
              "      <th>4</th>\n",
              "      <td>Detractor</td>\n",
              "      <td>908</td>\n",
              "      <td>London</td>\n",
              "    </tr>\n",
              "  </tbody>\n",
              "</table>\n",
              "</div>"
            ],
            "text/plain": [
              "   user_rank  count_users      county\n",
              "0      Other         1820      London\n",
              "1      Other         1195       Essex\n",
              "2      Other         1113  Lancashire\n",
              "3      Other         1110        Kent\n",
              "4  Detractor          908      London"
            ]
          },
          "metadata": {}
        }
      ],
      "execution_count": 127,
      "metadata": {
        "collapsed": false,
        "outputHidden": false,
        "inputHidden": false
      }
    },
    {
      "cell_type": "code",
      "source": [
        "from ggplot import *"
      ],
      "outputs": [
        {
          "output_type": "stream",
          "name": "stderr",
          "text": [
            "/Users/giacomo.vannucchi/miniconda3/envs/facebook_data_package/lib/python3.5/site-packages/ggplot/utils.py:81: FutureWarning: pandas.tslib is deprecated and will be removed in a future version.\n",
            "You can access Timestamp as pandas.Timestamp\n",
            "  pd.tslib.Timestamp,\n",
            "/Users/giacomo.vannucchi/miniconda3/envs/facebook_data_package/lib/python3.5/site-packages/ggplot/stats/smoothers.py:4: FutureWarning: The pandas.lib module is deprecated and will be removed in a future version. These are private functions and can be accessed from pandas._libs.lib instead\n",
            "  from pandas.lib import Timestamp\n"
          ]
        }
      ],
      "execution_count": 29,
      "metadata": {
        "collapsed": false,
        "outputHidden": false,
        "inputHidden": false
      }
    },
    {
      "cell_type": "code",
      "source": [
        "ggplot(aes(x='period'), data = data)+\\\n",
        "        geom_line(aes(y='quarterly_average_score', color='purple'))+\\\n",
        "        geom_line(aes(y='moving_average', color='blue'))+\\\n",
        "        scale_x_continuous(breaks = (3,7,11,15))+\\\n",
        "        ylab('Average Score')"
      ],
      "outputs": [
        {
          "output_type": "display_data",
          "data": {
            "image/png": "[encoded data removed]",
            "text/plain": [
              "<Figure size 792x576 with 1 Axes>"
            ]
          },
          "metadata": {}
        },
        {
          "output_type": "execute_result",
          "execution_count": 72,
          "data": {
            "text/plain": [
              "<ggplot: (-9223372029299397116)>"
            ]
          },
          "metadata": {}
        }
      ],
      "execution_count": 72,
      "metadata": {
        "collapsed": false,
        "outputHidden": false,
        "inputHidden": false
      }
    },
    {
      "cell_type": "code",
      "source": [
        "ggplot(aes(x='period', y='seasonal_index'), data = data)+\\\n",
        "        geom_line(color='green')+\\\n",
        "        scale_x_continuous(breaks = (3,7,11,15))"
      ],
      "outputs": [
        {
          "output_type": "display_data",
          "data": {
            "image/png": "[encoded data removed]",
            "text/plain": [
              "<Figure size 792x576 with 1 Axes>"
            ]
          },
          "metadata": {}
        },
        {
          "output_type": "execute_result",
          "execution_count": 75,
          "data": {
            "text/plain": [
              "<ggplot: (-9223372029299506979)>"
            ]
          },
          "metadata": {}
        }
      ],
      "execution_count": 75,
      "metadata": {
        "collapsed": false,
        "outputHidden": false,
        "inputHidden": false
      }
    },
    {
      "cell_type": "markdown",
      "source": [
        "### Question 1: Answer\n",
        "The final_table shows the seasonality index of NPS for each quarter. \n",
        "An index abobe 1 means that the quarter has a performance higher than average trend, while an index below 1 shows the opposite, which means the quarter performed below average trend.\n",
        "\n",
        "As we can see from the final_table the best performing quarters in terms of NPS are Q3 and Q4, consistently over the years. Q2 is consistently scoring an NPS average trend in the middle over the years, while Q1 has been the low performing quarter across all years.\n",
        "\n",
        "We can thereore conclude that there is a clear seasonality effect in the data, with NPS going down in the first Q1 and then progressivly going up until reaching its max on Q3 and Q4.\n"
      ],
      "metadata": {}
    },
    {
      "cell_type": "markdown",
      "source": [
        "### Question 2\n",
        "Marketing comes to the tech team and says that they want to run a campaign to to\n",
        "get more tradespeople on the site. Given the data from NPS, what recommendation\n",
        "would you make as to which types and locations they should focus on and why?"
      ],
      "metadata": {}
    },
    {
      "cell_type": "code",
      "source": [
        "query_2 = \"\"\"\n",
        "WITH ranked_users_table AS (\n",
        "SELECT id, user_id, \n",
        "\tCASE\n",
        "\t\tWHEN rating < 7 THEN 'Detractor'\n",
        "\t\tWHEN rating > 8 THEN 'Promoter'\n",
        "\t\tELSE 'Passive'\n",
        "\tEND as user_rank\n",
        "FROM customer_happiness_questions\n",
        " ) SELECT \n",
        " \tuser_rank, \n",
        " \tCOUNT(DISTINCT rut.user_id) AS count_users,\n",
        " \ttl.county\n",
        " \tFROM ranked_users_table rut\n",
        " \tJOIN tradesman_locations tl ON tl.user_id = rut.user_id\n",
        " \tJOIN (\n",
        " \t\tSELECT *, \n",
        "\t\tRANK() OVER (order by pref_rank)\n",
        "\t\tFROM tradesmen_trades \n",
        " \t\t)tt ON tl.user_id = tt.user_id -- using only top ranked trade for simplicity\n",
        " \tWHERE tt.rank = 1 \n",
        " \tGROUP BY rut.user_rank, tl.county\n",
        " \tORDER BY count_users DESC\n",
        " ;\n",
        "\n\n\"\"\""
      ],
      "outputs": [],
      "execution_count": 88,
      "metadata": {
        "collapsed": false,
        "outputHidden": false,
        "inputHidden": false
      }
    },
    {
      "cell_type": "code",
      "source": [
        "data_2 = sqlio.read_sql_query(query_2, conn)"
      ],
      "outputs": [],
      "execution_count": 89,
      "metadata": {
        "collapsed": false,
        "outputHidden": false,
        "inputHidden": false
      }
    },
    {
      "cell_type": "code",
      "source": [
        "data_2.head()"
      ],
      "outputs": [
        {
          "output_type": "execute_result",
          "execution_count": 90,
          "data": {
            "text/html": [
              "<div>\n",
              "<style scoped>\n",
              "    .dataframe tbody tr th:only-of-type {\n",
              "        vertical-align: middle;\n",
              "    }\n",
              "\n",
              "    .dataframe tbody tr th {\n",
              "        vertical-align: top;\n",
              "    }\n",
              "\n",
              "    .dataframe thead th {\n",
              "        text-align: right;\n",
              "    }\n",
              "</style>\n",
              "<table border=\"1\" class=\"dataframe\">\n",
              "  <thead>\n",
              "    <tr style=\"text-align: right;\">\n",
              "      <th></th>\n",
              "      <th>user_rank</th>\n",
              "      <th>count_users</th>\n",
              "      <th>county</th>\n",
              "    </tr>\n",
              "  </thead>\n",
              "  <tbody>\n",
              "    <tr>\n",
              "      <th>0</th>\n",
              "      <td>Promoter</td>\n",
              "      <td>1475</td>\n",
              "      <td>London</td>\n",
              "    </tr>\n",
              "    <tr>\n",
              "      <th>1</th>\n",
              "      <td>Promoter</td>\n",
              "      <td>924</td>\n",
              "      <td>Essex</td>\n",
              "    </tr>\n",
              "    <tr>\n",
              "      <th>2</th>\n",
              "      <td>Detractor</td>\n",
              "      <td>908</td>\n",
              "      <td>London</td>\n",
              "    </tr>\n",
              "    <tr>\n",
              "      <th>3</th>\n",
              "      <td>Promoter</td>\n",
              "      <td>863</td>\n",
              "      <td>Kent</td>\n",
              "    </tr>\n",
              "    <tr>\n",
              "      <th>4</th>\n",
              "      <td>Promoter</td>\n",
              "      <td>844</td>\n",
              "      <td>Lancashire</td>\n",
              "    </tr>\n",
              "  </tbody>\n",
              "</table>\n",
              "</div>"
            ],
            "text/plain": [
              "   user_rank  count_users      county\n",
              "0   Promoter         1475      London\n",
              "1   Promoter          924       Essex\n",
              "2  Detractor          908      London\n",
              "3   Promoter          863        Kent\n",
              "4   Promoter          844  Lancashire"
            ]
          },
          "metadata": {}
        }
      ],
      "execution_count": 90,
      "metadata": {
        "collapsed": false,
        "outputHidden": false,
        "inputHidden": false
      }
    },
    {
      "cell_type": "code",
      "source": [
        "county_size = data_2.groupby(['county']).agg({'count_users': 'sum'})"
      ],
      "outputs": [],
      "execution_count": 123,
      "metadata": {
        "collapsed": false,
        "outputHidden": false,
        "inputHidden": false
      }
    },
    {
      "cell_type": "code",
      "source": [
        "county_size.reset_index().head()"
      ],
      "outputs": [
        {
          "output_type": "execute_result",
          "execution_count": 128,
          "data": {
            "text/html": [
              "<div>\n",
              "<style scoped>\n",
              "    .dataframe tbody tr th:only-of-type {\n",
              "        vertical-align: middle;\n",
              "    }\n",
              "\n",
              "    .dataframe tbody tr th {\n",
              "        vertical-align: top;\n",
              "    }\n",
              "\n",
              "    .dataframe thead th {\n",
              "        text-align: right;\n",
              "    }\n",
              "</style>\n",
              "<table border=\"1\" class=\"dataframe\">\n",
              "  <thead>\n",
              "    <tr style=\"text-align: right;\">\n",
              "      <th></th>\n",
              "      <th>county</th>\n",
              "      <th>count_users</th>\n",
              "    </tr>\n",
              "  </thead>\n",
              "  <tbody>\n",
              "    <tr>\n",
              "      <th>0</th>\n",
              "      <td>Aberdeenshire</td>\n",
              "      <td>131</td>\n",
              "    </tr>\n",
              "    <tr>\n",
              "      <th>1</th>\n",
              "      <td>Angus</td>\n",
              "      <td>104</td>\n",
              "    </tr>\n",
              "    <tr>\n",
              "      <th>2</th>\n",
              "      <td>Argyll</td>\n",
              "      <td>7</td>\n",
              "    </tr>\n",
              "    <tr>\n",
              "      <th>3</th>\n",
              "      <td>Avon</td>\n",
              "      <td>813</td>\n",
              "    </tr>\n",
              "    <tr>\n",
              "      <th>4</th>\n",
              "      <td>Ayrshire</td>\n",
              "      <td>126</td>\n",
              "    </tr>\n",
              "  </tbody>\n",
              "</table>\n",
              "</div>"
            ],
            "text/plain": [
              "          county  count_users\n",
              "0  Aberdeenshire          131\n",
              "1          Angus          104\n",
              "2         Argyll            7\n",
              "3           Avon          813\n",
              "4       Ayrshire          126"
            ]
          },
          "metadata": {}
        }
      ],
      "execution_count": 128,
      "metadata": {
        "collapsed": false,
        "outputHidden": false,
        "inputHidden": false
      }
    },
    {
      "cell_type": "code",
      "source": [
        "county = data_2.groupby(['county', 'user_rank']).agg({'count_users': 'sum'})"
      ],
      "outputs": [],
      "execution_count": 94,
      "metadata": {
        "collapsed": false,
        "outputHidden": false,
        "inputHidden": false
      }
    },
    {
      "cell_type": "code",
      "source": [
        "county.reset_index().head()"
      ],
      "outputs": [
        {
          "output_type": "execute_result",
          "execution_count": 129,
          "data": {
            "text/html": [
              "<div>\n",
              "<style scoped>\n",
              "    .dataframe tbody tr th:only-of-type {\n",
              "        vertical-align: middle;\n",
              "    }\n",
              "\n",
              "    .dataframe tbody tr th {\n",
              "        vertical-align: top;\n",
              "    }\n",
              "\n",
              "    .dataframe thead th {\n",
              "        text-align: right;\n",
              "    }\n",
              "</style>\n",
              "<table border=\"1\" class=\"dataframe\">\n",
              "  <thead>\n",
              "    <tr style=\"text-align: right;\">\n",
              "      <th></th>\n",
              "      <th>county</th>\n",
              "      <th>user_rank</th>\n",
              "      <th>count_users</th>\n",
              "    </tr>\n",
              "  </thead>\n",
              "  <tbody>\n",
              "    <tr>\n",
              "      <th>0</th>\n",
              "      <td>Aberdeenshire</td>\n",
              "      <td>Detractor</td>\n",
              "      <td>47</td>\n",
              "    </tr>\n",
              "    <tr>\n",
              "      <th>1</th>\n",
              "      <td>Aberdeenshire</td>\n",
              "      <td>Passive</td>\n",
              "      <td>30</td>\n",
              "    </tr>\n",
              "    <tr>\n",
              "      <th>2</th>\n",
              "      <td>Aberdeenshire</td>\n",
              "      <td>Promoter</td>\n",
              "      <td>54</td>\n",
              "    </tr>\n",
              "    <tr>\n",
              "      <th>3</th>\n",
              "      <td>Angus</td>\n",
              "      <td>Detractor</td>\n",
              "      <td>31</td>\n",
              "    </tr>\n",
              "    <tr>\n",
              "      <th>4</th>\n",
              "      <td>Angus</td>\n",
              "      <td>Passive</td>\n",
              "      <td>22</td>\n",
              "    </tr>\n",
              "  </tbody>\n",
              "</table>\n",
              "</div>"
            ],
            "text/plain": [
              "          county  user_rank  count_users\n",
              "0  Aberdeenshire  Detractor           47\n",
              "1  Aberdeenshire    Passive           30\n",
              "2  Aberdeenshire   Promoter           54\n",
              "3          Angus  Detractor           31\n",
              "4          Angus    Passive           22"
            ]
          },
          "metadata": {}
        }
      ],
      "execution_count": 129,
      "metadata": {
        "collapsed": false,
        "outputHidden": false,
        "inputHidden": false
      }
    },
    {
      "cell_type": "code",
      "source": [
        "county_pcts = county.groupby(level=0).apply(lambda x:\n",
        "                                                 100 * x / float(x.sum()))"
      ],
      "outputs": [],
      "execution_count": 96,
      "metadata": {
        "collapsed": false,
        "outputHidden": false,
        "inputHidden": false
      }
    },
    {
      "cell_type": "code",
      "source": [
        "county_pcts = county_pcts.reset_index()"
      ],
      "outputs": [],
      "execution_count": 108,
      "metadata": {
        "collapsed": false,
        "outputHidden": false,
        "inputHidden": false
      }
    },
    {
      "cell_type": "code",
      "source": [
        "county_pcts[county_pcts['user_rank'] == 'Detractor'].sort_values(by = ['count_users'], ascending=False)"
      ],
      "outputs": [
        {
          "output_type": "execute_result",
          "execution_count": 120,
          "data": {
            "text/html": [
              "<div>\n",
              "<style scoped>\n",
              "    .dataframe tbody tr th:only-of-type {\n",
              "        vertical-align: middle;\n",
              "    }\n",
              "\n",
              "    .dataframe tbody tr th {\n",
              "        vertical-align: top;\n",
              "    }\n",
              "\n",
              "    .dataframe thead th {\n",
              "        text-align: right;\n",
              "    }\n",
              "</style>\n",
              "<table border=\"1\" class=\"dataframe\">\n",
              "  <thead>\n",
              "    <tr style=\"text-align: right;\">\n",
              "      <th></th>\n",
              "      <th>county</th>\n",
              "      <th>user_rank</th>\n",
              "      <th>count_users</th>\n",
              "    </tr>\n",
              "  </thead>\n",
              "  <tbody>\n",
              "    <tr>\n",
              "      <th>125</th>\n",
              "      <td>Isle of Orkney</td>\n",
              "      <td>Detractor</td>\n",
              "      <td>100.000000</td>\n",
              "    </tr>\n",
              "    <tr>\n",
              "      <th>15</th>\n",
              "      <td>Banffshire</td>\n",
              "      <td>Detractor</td>\n",
              "      <td>60.000000</td>\n",
              "    </tr>\n",
              "    <tr>\n",
              "      <th>139</th>\n",
              "      <td>Kirkcudbrightshire</td>\n",
              "      <td>Detractor</td>\n",
              "      <td>50.000000</td>\n",
              "    </tr>\n",
              "    <tr>\n",
              "      <th>29</th>\n",
              "      <td>Caithness</td>\n",
              "      <td>Detractor</td>\n",
              "      <td>50.000000</td>\n",
              "    </tr>\n",
              "    <tr>\n",
              "      <th>123</th>\n",
              "      <td>Isle of Bute</td>\n",
              "      <td>Detractor</td>\n",
              "      <td>50.000000</td>\n",
              "    </tr>\n",
              "    <tr>\n",
              "      <th>61</th>\n",
              "      <td>County Fermanagh</td>\n",
              "      <td>Detractor</td>\n",
              "      <td>50.000000</td>\n",
              "    </tr>\n",
              "    <tr>\n",
              "      <th>126</th>\n",
              "      <td>Isle of Skye</td>\n",
              "      <td>Detractor</td>\n",
              "      <td>50.000000</td>\n",
              "    </tr>\n",
              "    <tr>\n",
              "      <th>134</th>\n",
              "      <td>Kincardineshire</td>\n",
              "      <td>Detractor</td>\n",
              "      <td>46.153846</td>\n",
              "    </tr>\n",
              "    <tr>\n",
              "      <th>120</th>\n",
              "      <td>Inverness-Shire</td>\n",
              "      <td>Detractor</td>\n",
              "      <td>45.454545</td>\n",
              "    </tr>\n",
              "    <tr>\n",
              "      <th>224</th>\n",
              "      <td>South Humberside</td>\n",
              "      <td>Detractor</td>\n",
              "      <td>42.187500</td>\n",
              "    </tr>\n",
              "    <tr>\n",
              "      <th>63</th>\n",
              "      <td>County Londonderry</td>\n",
              "      <td>Detractor</td>\n",
              "      <td>41.176471</td>\n",
              "    </tr>\n",
              "    <tr>\n",
              "      <th>168</th>\n",
              "      <td>Morayshire</td>\n",
              "      <td>Detractor</td>\n",
              "      <td>40.000000</td>\n",
              "    </tr>\n",
              "    <tr>\n",
              "      <th>40</th>\n",
              "      <td>Cleveland</td>\n",
              "      <td>Detractor</td>\n",
              "      <td>39.759036</td>\n",
              "    </tr>\n",
              "    <tr>\n",
              "      <th>55</th>\n",
              "      <td>County Down</td>\n",
              "      <td>Detractor</td>\n",
              "      <td>38.961039</td>\n",
              "    </tr>\n",
              "    <tr>\n",
              "      <th>249</th>\n",
              "      <td>West Glamorgan</td>\n",
              "      <td>Detractor</td>\n",
              "      <td>37.404580</td>\n",
              "    </tr>\n",
              "    <tr>\n",
              "      <th>258</th>\n",
              "      <td>West Sussex</td>\n",
              "      <td>Detractor</td>\n",
              "      <td>37.330754</td>\n",
              "    </tr>\n",
              "    <tr>\n",
              "      <th>177</th>\n",
              "      <td>North Yorkshire</td>\n",
              "      <td>Detractor</td>\n",
              "      <td>37.323944</td>\n",
              "    </tr>\n",
              "    <tr>\n",
              "      <th>0</th>\n",
              "      <td>Aberdeenshire</td>\n",
              "      <td>Detractor</td>\n",
              "      <td>35.877863</td>\n",
              "    </tr>\n",
              "    <tr>\n",
              "      <th>239</th>\n",
              "      <td>Surrey</td>\n",
              "      <td>Detractor</td>\n",
              "      <td>35.847880</td>\n",
              "    </tr>\n",
              "    <tr>\n",
              "      <th>78</th>\n",
              "      <td>Dorset</td>\n",
              "      <td>Detractor</td>\n",
              "      <td>35.665914</td>\n",
              "    </tr>\n",
              "    <tr>\n",
              "      <th>34</th>\n",
              "      <td>Cheshire</td>\n",
              "      <td>Detractor</td>\n",
              "      <td>35.069444</td>\n",
              "    </tr>\n",
              "    <tr>\n",
              "      <th>180</th>\n",
              "      <td>Northamptonshire</td>\n",
              "      <td>Detractor</td>\n",
              "      <td>35.000000</td>\n",
              "    </tr>\n",
              "    <tr>\n",
              "      <th>90</th>\n",
              "      <td>East Lothian</td>\n",
              "      <td>Detractor</td>\n",
              "      <td>35.000000</td>\n",
              "    </tr>\n",
              "    <tr>\n",
              "      <th>26</th>\n",
              "      <td>Buckinghamshire</td>\n",
              "      <td>Detractor</td>\n",
              "      <td>34.948980</td>\n",
              "    </tr>\n",
              "    <tr>\n",
              "      <th>93</th>\n",
              "      <td>East Sussex</td>\n",
              "      <td>Detractor</td>\n",
              "      <td>34.804754</td>\n",
              "    </tr>\n",
              "    <tr>\n",
              "      <th>183</th>\n",
              "      <td>Northumberland</td>\n",
              "      <td>Detractor</td>\n",
              "      <td>34.645669</td>\n",
              "    </tr>\n",
              "    <tr>\n",
              "      <th>52</th>\n",
              "      <td>County Armagh</td>\n",
              "      <td>Detractor</td>\n",
              "      <td>34.615385</td>\n",
              "    </tr>\n",
              "    <tr>\n",
              "      <th>150</th>\n",
              "      <td>Lincolnshire</td>\n",
              "      <td>Detractor</td>\n",
              "      <td>34.550562</td>\n",
              "    </tr>\n",
              "    <tr>\n",
              "      <th>243</th>\n",
              "      <td>Tyne and Wear</td>\n",
              "      <td>Detractor</td>\n",
              "      <td>34.496920</td>\n",
              "    </tr>\n",
              "    <tr>\n",
              "      <th>147</th>\n",
              "      <td>Leicestershire</td>\n",
              "      <td>Detractor</td>\n",
              "      <td>34.383202</td>\n",
              "    </tr>\n",
              "    <tr>\n",
              "      <th>...</th>\n",
              "      <td>...</td>\n",
              "      <td>...</td>\n",
              "      <td>...</td>\n",
              "    </tr>\n",
              "    <tr>\n",
              "      <th>201</th>\n",
              "      <td>Renfrewshire</td>\n",
              "      <td>Detractor</td>\n",
              "      <td>31.521739</td>\n",
              "    </tr>\n",
              "    <tr>\n",
              "      <th>66</th>\n",
              "      <td>County Tyrone</td>\n",
              "      <td>Detractor</td>\n",
              "      <td>31.250000</td>\n",
              "    </tr>\n",
              "    <tr>\n",
              "      <th>108</th>\n",
              "      <td>Gwynedd</td>\n",
              "      <td>Detractor</td>\n",
              "      <td>31.182796</td>\n",
              "    </tr>\n",
              "    <tr>\n",
              "      <th>246</th>\n",
              "      <td>Warwickshire</td>\n",
              "      <td>Detractor</td>\n",
              "      <td>31.052632</td>\n",
              "    </tr>\n",
              "    <tr>\n",
              "      <th>105</th>\n",
              "      <td>Gwent</td>\n",
              "      <td>Detractor</td>\n",
              "      <td>30.163043</td>\n",
              "    </tr>\n",
              "    <tr>\n",
              "      <th>153</th>\n",
              "      <td>London</td>\n",
              "      <td>Detractor</td>\n",
              "      <td>30.156094</td>\n",
              "    </tr>\n",
              "    <tr>\n",
              "      <th>31</th>\n",
              "      <td>Cambridgeshire</td>\n",
              "      <td>Detractor</td>\n",
              "      <td>30.068337</td>\n",
              "    </tr>\n",
              "    <tr>\n",
              "      <th>46</th>\n",
              "      <td>Cornwall</td>\n",
              "      <td>Detractor</td>\n",
              "      <td>30.044843</td>\n",
              "    </tr>\n",
              "    <tr>\n",
              "      <th>23</th>\n",
              "      <td>Berwickshire</td>\n",
              "      <td>Detractor</td>\n",
              "      <td>30.000000</td>\n",
              "    </tr>\n",
              "    <tr>\n",
              "      <th>141</th>\n",
              "      <td>Lanarkshire</td>\n",
              "      <td>Detractor</td>\n",
              "      <td>29.910141</td>\n",
              "    </tr>\n",
              "    <tr>\n",
              "      <th>252</th>\n",
              "      <td>West Lothian</td>\n",
              "      <td>Detractor</td>\n",
              "      <td>29.824561</td>\n",
              "    </tr>\n",
              "    <tr>\n",
              "      <th>3</th>\n",
              "      <td>Angus</td>\n",
              "      <td>Detractor</td>\n",
              "      <td>29.807692</td>\n",
              "    </tr>\n",
              "    <tr>\n",
              "      <th>186</th>\n",
              "      <td>Nottinghamshire</td>\n",
              "      <td>Detractor</td>\n",
              "      <td>29.685363</td>\n",
              "    </tr>\n",
              "    <tr>\n",
              "      <th>267</th>\n",
              "      <td>Worcestershire</td>\n",
              "      <td>Detractor</td>\n",
              "      <td>29.641694</td>\n",
              "    </tr>\n",
              "    <tr>\n",
              "      <th>84</th>\n",
              "      <td>Dunbartonshire</td>\n",
              "      <td>Detractor</td>\n",
              "      <td>29.411765</td>\n",
              "    </tr>\n",
              "    <tr>\n",
              "      <th>102</th>\n",
              "      <td>Gloucestershire</td>\n",
              "      <td>Detractor</td>\n",
              "      <td>29.072682</td>\n",
              "    </tr>\n",
              "    <tr>\n",
              "      <th>212</th>\n",
              "      <td>Selkirkshire</td>\n",
              "      <td>Detractor</td>\n",
              "      <td>28.571429</td>\n",
              "    </tr>\n",
              "    <tr>\n",
              "      <th>233</th>\n",
              "      <td>Stirlingshire</td>\n",
              "      <td>Detractor</td>\n",
              "      <td>27.184466</td>\n",
              "    </tr>\n",
              "    <tr>\n",
              "      <th>69</th>\n",
              "      <td>Cumbria</td>\n",
              "      <td>Detractor</td>\n",
              "      <td>26.865672</td>\n",
              "    </tr>\n",
              "    <tr>\n",
              "      <th>198</th>\n",
              "      <td>Powys</td>\n",
              "      <td>Detractor</td>\n",
              "      <td>26.190476</td>\n",
              "    </tr>\n",
              "    <tr>\n",
              "      <th>12</th>\n",
              "      <td>Ayrshire</td>\n",
              "      <td>Detractor</td>\n",
              "      <td>26.190476</td>\n",
              "    </tr>\n",
              "    <tr>\n",
              "      <th>195</th>\n",
              "      <td>Perthshire</td>\n",
              "      <td>Detractor</td>\n",
              "      <td>25.581395</td>\n",
              "    </tr>\n",
              "    <tr>\n",
              "      <th>99</th>\n",
              "      <td>Fife</td>\n",
              "      <td>Detractor</td>\n",
              "      <td>25.104603</td>\n",
              "    </tr>\n",
              "    <tr>\n",
              "      <th>81</th>\n",
              "      <td>Dumfriesshire</td>\n",
              "      <td>Detractor</td>\n",
              "      <td>25.000000</td>\n",
              "    </tr>\n",
              "    <tr>\n",
              "      <th>128</th>\n",
              "      <td>Isle of Wight</td>\n",
              "      <td>Detractor</td>\n",
              "      <td>22.222222</td>\n",
              "    </tr>\n",
              "    <tr>\n",
              "      <th>192</th>\n",
              "      <td>Peeblesshire</td>\n",
              "      <td>Detractor</td>\n",
              "      <td>20.000000</td>\n",
              "    </tr>\n",
              "    <tr>\n",
              "      <th>204</th>\n",
              "      <td>Ross-Shire</td>\n",
              "      <td>Detractor</td>\n",
              "      <td>18.181818</td>\n",
              "    </tr>\n",
              "    <tr>\n",
              "      <th>210</th>\n",
              "      <td>Rutland</td>\n",
              "      <td>Detractor</td>\n",
              "      <td>14.285714</td>\n",
              "    </tr>\n",
              "    <tr>\n",
              "      <th>6</th>\n",
              "      <td>Argyll</td>\n",
              "      <td>Detractor</td>\n",
              "      <td>14.285714</td>\n",
              "    </tr>\n",
              "    <tr>\n",
              "      <th>207</th>\n",
              "      <td>Roxburghshire</td>\n",
              "      <td>Detractor</td>\n",
              "      <td>9.090909</td>\n",
              "    </tr>\n",
              "  </tbody>\n",
              "</table>\n",
              "<p>93 rows × 3 columns</p>\n",
              "</div>"
            ],
            "text/plain": [
              "                 county  user_rank  count_users\n",
              "125      Isle of Orkney  Detractor   100.000000\n",
              "15           Banffshire  Detractor    60.000000\n",
              "139  Kirkcudbrightshire  Detractor    50.000000\n",
              "29            Caithness  Detractor    50.000000\n",
              "123        Isle of Bute  Detractor    50.000000\n",
              "61     County Fermanagh  Detractor    50.000000\n",
              "126        Isle of Skye  Detractor    50.000000\n",
              "134     Kincardineshire  Detractor    46.153846\n",
              "120     Inverness-Shire  Detractor    45.454545\n",
              "224    South Humberside  Detractor    42.187500\n",
              "63   County Londonderry  Detractor    41.176471\n",
              "168          Morayshire  Detractor    40.000000\n",
              "40            Cleveland  Detractor    39.759036\n",
              "55          County Down  Detractor    38.961039\n",
              "249      West Glamorgan  Detractor    37.404580\n",
              "258         West Sussex  Detractor    37.330754\n",
              "177     North Yorkshire  Detractor    37.323944\n",
              "0         Aberdeenshire  Detractor    35.877863\n",
              "239              Surrey  Detractor    35.847880\n",
              "78               Dorset  Detractor    35.665914\n",
              "34             Cheshire  Detractor    35.069444\n",
              "180    Northamptonshire  Detractor    35.000000\n",
              "90         East Lothian  Detractor    35.000000\n",
              "26      Buckinghamshire  Detractor    34.948980\n",
              "93          East Sussex  Detractor    34.804754\n",
              "183      Northumberland  Detractor    34.645669\n",
              "52        County Armagh  Detractor    34.615385\n",
              "150        Lincolnshire  Detractor    34.550562\n",
              "243       Tyne and Wear  Detractor    34.496920\n",
              "147      Leicestershire  Detractor    34.383202\n",
              "..                  ...        ...          ...\n",
              "201        Renfrewshire  Detractor    31.521739\n",
              "66        County Tyrone  Detractor    31.250000\n",
              "108             Gwynedd  Detractor    31.182796\n",
              "246        Warwickshire  Detractor    31.052632\n",
              "105               Gwent  Detractor    30.163043\n",
              "153              London  Detractor    30.156094\n",
              "31       Cambridgeshire  Detractor    30.068337\n",
              "46             Cornwall  Detractor    30.044843\n",
              "23         Berwickshire  Detractor    30.000000\n",
              "141         Lanarkshire  Detractor    29.910141\n",
              "252        West Lothian  Detractor    29.824561\n",
              "3                 Angus  Detractor    29.807692\n",
              "186     Nottinghamshire  Detractor    29.685363\n",
              "267      Worcestershire  Detractor    29.641694\n",
              "84       Dunbartonshire  Detractor    29.411765\n",
              "102     Gloucestershire  Detractor    29.072682\n",
              "212        Selkirkshire  Detractor    28.571429\n",
              "233       Stirlingshire  Detractor    27.184466\n",
              "69              Cumbria  Detractor    26.865672\n",
              "198               Powys  Detractor    26.190476\n",
              "12             Ayrshire  Detractor    26.190476\n",
              "195          Perthshire  Detractor    25.581395\n",
              "99                 Fife  Detractor    25.104603\n",
              "81        Dumfriesshire  Detractor    25.000000\n",
              "128       Isle of Wight  Detractor    22.222222\n",
              "192        Peeblesshire  Detractor    20.000000\n",
              "204          Ross-Shire  Detractor    18.181818\n",
              "210             Rutland  Detractor    14.285714\n",
              "6                Argyll  Detractor    14.285714\n",
              "207       Roxburghshire  Detractor     9.090909\n",
              "\n[93 rows x 3 columns]"
            ]
          },
          "metadata": {}
        }
      ],
      "execution_count": 120,
      "metadata": {
        "collapsed": false,
        "outputHidden": false,
        "inputHidden": false
      }
    },
    {
      "cell_type": "code",
      "source": [],
      "outputs": [],
      "execution_count": null,
      "metadata": {
        "collapsed": false,
        "outputHidden": false,
        "inputHidden": false
      }
    }
  ],
  "metadata": {
    "kernel_info": {
      "name": "facebook_data_package"
    },
    "language_info": {
      "codemirror_mode": {
        "name": "ipython",
        "version": 3
      },
      "name": "python",
      "pygments_lexer": "ipython3",
      "file_extension": ".py",
      "nbconvert_exporter": "python",
      "mimetype": "text/x-python",
      "version": "3.5.4"
    },
    "kernelspec": {
      "name": "facebook_data_package",
      "language": "python",
      "display_name": "facebook_data_package"
    },
    "nteract": {
      "version": "0.11.7"
    }
  },
  "nbformat": 4,
  "nbformat_minor": 4
}